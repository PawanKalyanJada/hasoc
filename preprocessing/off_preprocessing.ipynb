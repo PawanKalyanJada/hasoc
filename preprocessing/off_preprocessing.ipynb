{
  "nbformat": 4,
  "nbformat_minor": 0,
  "metadata": {
    "colab": {
      "name": "off preprocessing.ipynb",
      "provenance": [],
      "mount_file_id": "1Ts6tw3QseDP0T0RPhZLRNIz07yH395yE",
      "authorship_tag": "ABX9TyNgN4W2mGDVo18TEF8Bu+Gl",
      "include_colab_link": true
    },
    "kernelspec": {
      "name": "python3",
      "display_name": "Python 3"
    },
    "language_info": {
      "name": "python"
    }
  },
  "cells": [
    {
      "cell_type": "markdown",
      "metadata": {
        "id": "view-in-github",
        "colab_type": "text"
      },
      "source": [
        "<a href=\"https://colab.research.google.com/github/PawanKalyanJada/hasoc/blob/main/preprocessing/off_preprocessing.ipynb\" target=\"_parent\"><img src=\"https://colab.research.google.com/assets/colab-badge.svg\" alt=\"Open In Colab\"/></a>"
      ]
    },
    {
      "cell_type": "code",
      "metadata": {
        "id": "ahDj0SOXpZa-"
      },
      "source": [
        "import pandas as pd"
      ],
      "execution_count": null,
      "outputs": []
    },
    {
      "cell_type": "code",
      "metadata": {
        "id": "CQMAmeP9puIn"
      },
      "source": [
        "df=pd.read_excel('/content/drive/MyDrive/Offensive Language Detection/subtask 2/Tamil-Codemixed_offensive_data_Training-Tweet-HL.xlsx',header=None)\n",
        "df.columns=['id','text','label']"
      ],
      "execution_count": null,
      "outputs": []
    },
    {
      "cell_type": "code",
      "metadata": {
        "colab": {
          "base_uri": "https://localhost:8080/",
          "height": 417
        },
        "id": "ZU6Sv0P-p_a7",
        "outputId": "21750e7e-9c67-4053-fc45-8635c16bdbad"
      },
      "source": [
        "df"
      ],
      "execution_count": null,
      "outputs": [
        {
          "output_type": "execute_result",
          "data": {
            "text/html": [
              "<div>\n",
              "<style scoped>\n",
              "    .dataframe tbody tr th:only-of-type {\n",
              "        vertical-align: middle;\n",
              "    }\n",
              "\n",
              "    .dataframe tbody tr th {\n",
              "        vertical-align: top;\n",
              "    }\n",
              "\n",
              "    .dataframe thead th {\n",
              "        text-align: right;\n",
              "    }\n",
              "</style>\n",
              "<table border=\"1\" class=\"dataframe\">\n",
              "  <thead>\n",
              "    <tr style=\"text-align: right;\">\n",
              "      <th></th>\n",
              "      <th>id</th>\n",
              "      <th>text</th>\n",
              "      <th>label</th>\n",
              "    </tr>\n",
              "  </thead>\n",
              "  <tbody>\n",
              "    <tr>\n",
              "      <th>0</th>\n",
              "      <td>TA_HL100</td>\n",
              "      <td>Iyaooo Kovam pattutene sothula visatha vachuru...</td>\n",
              "      <td>NOT</td>\n",
              "    </tr>\n",
              "    <tr>\n",
              "      <th>1</th>\n",
              "      <td>TA_HL101</td>\n",
              "      <td>@Asha Apo neenga atha government ku theriya pa...</td>\n",
              "      <td>NOT</td>\n",
              "    </tr>\n",
              "    <tr>\n",
              "      <th>2</th>\n",
              "      <td>TA_HL102</td>\n",
              "      <td>@Bala sundar ayyo sorry...antha line ah explai...</td>\n",
              "      <td>NOT</td>\n",
              "    </tr>\n",
              "    <tr>\n",
              "      <th>3</th>\n",
              "      <td>TA_HL105</td>\n",
              "      <td>@kalimuthu ne ena lusa...yaaru edhu panaalum e...</td>\n",
              "      <td>NOT</td>\n",
              "    </tr>\n",
              "    <tr>\n",
              "      <th>4</th>\n",
              "      <td>TA_HL109</td>\n",
              "      <td>1st baby ku neat ah feed panunga plzz ipdi iru...</td>\n",
              "      <td>NOT</td>\n",
              "    </tr>\n",
              "    <tr>\n",
              "      <th>...</th>\n",
              "      <td>...</td>\n",
              "      <td>...</td>\n",
              "      <td>...</td>\n",
              "    </tr>\n",
              "    <tr>\n",
              "      <th>3995</th>\n",
              "      <td>TA_TW6620</td>\n",
              "      <td>Yaroda body structure semaya irukum? Sema mood...</td>\n",
              "      <td>OFF</td>\n",
              "    </tr>\n",
              "    <tr>\n",
              "      <th>3996</th>\n",
              "      <td>TA_TW3336</td>\n",
              "      <td>Yenda naangala politics varom nu pala varusham...</td>\n",
              "      <td>OFF</td>\n",
              "    </tr>\n",
              "    <tr>\n",
              "      <th>3997</th>\n",
              "      <td>TA_HL1105</td>\n",
              "      <td>Yepdithan seruppala adichalum arasiyalvathikku...</td>\n",
              "      <td>OFF</td>\n",
              "    </tr>\n",
              "    <tr>\n",
              "      <th>3998</th>\n",
              "      <td>TA_TW1915</td>\n",
              "      <td>@USER Paithiyam ena unga vanthu full ah forwar...</td>\n",
              "      <td>OFF</td>\n",
              "    </tr>\n",
              "    <tr>\n",
              "      <th>3999</th>\n",
              "      <td>TA_TW4528</td>\n",
              "      <td>RT @USER : Itha vidaa kevalam veraa irukaa vij...</td>\n",
              "      <td>OFF</td>\n",
              "    </tr>\n",
              "  </tbody>\n",
              "</table>\n",
              "<p>4000 rows × 3 columns</p>\n",
              "</div>"
            ],
            "text/plain": [
              "             id                                               text label\n",
              "0      TA_HL100  Iyaooo Kovam pattutene sothula visatha vachuru...   NOT\n",
              "1      TA_HL101  @Asha Apo neenga atha government ku theriya pa...   NOT\n",
              "2      TA_HL102  @Bala sundar ayyo sorry...antha line ah explai...   NOT\n",
              "3      TA_HL105  @kalimuthu ne ena lusa...yaaru edhu panaalum e...   NOT\n",
              "4      TA_HL109  1st baby ku neat ah feed panunga plzz ipdi iru...   NOT\n",
              "...         ...                                                ...   ...\n",
              "3995  TA_TW6620  Yaroda body structure semaya irukum? Sema mood...   OFF\n",
              "3996  TA_TW3336  Yenda naangala politics varom nu pala varusham...   OFF\n",
              "3997  TA_HL1105  Yepdithan seruppala adichalum arasiyalvathikku...   OFF\n",
              "3998  TA_TW1915  @USER Paithiyam ena unga vanthu full ah forwar...   OFF\n",
              "3999  TA_TW4528  RT @USER : Itha vidaa kevalam veraa irukaa vij...   OFF\n",
              "\n",
              "[4000 rows x 3 columns]"
            ]
          },
          "metadata": {
            "tags": []
          },
          "execution_count": 13
        }
      ]
    },
    {
      "cell_type": "code",
      "metadata": {
        "id": "BI-i3LQVqIWz"
      },
      "source": [
        "df['label']=df['label'].str.lower()"
      ],
      "execution_count": null,
      "outputs": []
    },
    {
      "cell_type": "code",
      "metadata": {
        "colab": {
          "base_uri": "https://localhost:8080/"
        },
        "id": "HEAFlPTLsLX_",
        "outputId": "b3622b9b-ccbb-46b4-9cfc-94a913662ad4"
      },
      "source": [
        "!pip install tweet-preprocessor"
      ],
      "execution_count": null,
      "outputs": [
        {
          "output_type": "stream",
          "text": [
            "Collecting tweet-preprocessor\n",
            "  Downloading https://files.pythonhosted.org/packages/17/9d/71bd016a9edcef8860c607e531f30bd09b13103c7951ae73dd2bf174163c/tweet_preprocessor-0.6.0-py3-none-any.whl\n",
            "Installing collected packages: tweet-preprocessor\n",
            "Successfully installed tweet-preprocessor-0.6.0\n"
          ],
          "name": "stdout"
        }
      ]
    },
    {
      "cell_type": "code",
      "metadata": {
        "id": "i6ZBDUSfsi-t"
      },
      "source": [
        "import preprocessor as p"
      ],
      "execution_count": null,
      "outputs": []
    },
    {
      "cell_type": "code",
      "metadata": {
        "id": "Em9Ye_Disljy"
      },
      "source": [
        "df['text']=df['text'].apply(lambda x: p.clean(x))"
      ],
      "execution_count": null,
      "outputs": []
    },
    {
      "cell_type": "code",
      "metadata": {
        "id": "RXUV2m4RsvYv"
      },
      "source": [
        "df['text'] = df['text'].str.lower().str.replace('[^\\w\\s]',' ').str.replace('\\s\\s+', ' ')"
      ],
      "execution_count": null,
      "outputs": []
    },
    {
      "cell_type": "code",
      "metadata": {
        "colab": {
          "base_uri": "https://localhost:8080/",
          "height": 417
        },
        "id": "mYgqUTn4tDvk",
        "outputId": "58e8700b-766d-48ac-de56-68b0463d2b08"
      },
      "source": [
        "df"
      ],
      "execution_count": null,
      "outputs": [
        {
          "output_type": "execute_result",
          "data": {
            "text/html": [
              "<div>\n",
              "<style scoped>\n",
              "    .dataframe tbody tr th:only-of-type {\n",
              "        vertical-align: middle;\n",
              "    }\n",
              "\n",
              "    .dataframe tbody tr th {\n",
              "        vertical-align: top;\n",
              "    }\n",
              "\n",
              "    .dataframe thead th {\n",
              "        text-align: right;\n",
              "    }\n",
              "</style>\n",
              "<table border=\"1\" class=\"dataframe\">\n",
              "  <thead>\n",
              "    <tr style=\"text-align: right;\">\n",
              "      <th></th>\n",
              "      <th>id</th>\n",
              "      <th>text</th>\n",
              "      <th>label</th>\n",
              "    </tr>\n",
              "  </thead>\n",
              "  <tbody>\n",
              "    <tr>\n",
              "      <th>0</th>\n",
              "      <td>TA_HL100</td>\n",
              "      <td>iyaooo kovam pattutene sothula visatha vachuru...</td>\n",
              "      <td>not</td>\n",
              "    </tr>\n",
              "    <tr>\n",
              "      <th>1</th>\n",
              "      <td>TA_HL101</td>\n",
              "      <td>apo neenga atha government ku theriya paduthaliya</td>\n",
              "      <td>not</td>\n",
              "    </tr>\n",
              "    <tr>\n",
              "      <th>2</th>\n",
              "      <td>TA_HL102</td>\n",
              "      <td>sundar ayyo sorry antha line ah explain pannam...</td>\n",
              "      <td>not</td>\n",
              "    </tr>\n",
              "    <tr>\n",
              "      <th>3</th>\n",
              "      <td>TA_HL105</td>\n",
              "      <td>ne ena lusa yaaru edhu panaalum en da religion...</td>\n",
              "      <td>not</td>\n",
              "    </tr>\n",
              "    <tr>\n",
              "      <th>4</th>\n",
              "      <td>TA_HL109</td>\n",
              "      <td>st baby ku neat ah feed panunga plzz ipdi irun...</td>\n",
              "      <td>not</td>\n",
              "    </tr>\n",
              "    <tr>\n",
              "      <th>...</th>\n",
              "      <td>...</td>\n",
              "      <td>...</td>\n",
              "      <td>...</td>\n",
              "    </tr>\n",
              "    <tr>\n",
              "      <th>3995</th>\n",
              "      <td>TA_TW6620</td>\n",
              "      <td>yaroda body structure semaya irukum sema mood ...</td>\n",
              "      <td>off</td>\n",
              "    </tr>\n",
              "    <tr>\n",
              "      <th>3996</th>\n",
              "      <td>TA_TW3336</td>\n",
              "      <td>yenda naangala politics varom nu pala varusham...</td>\n",
              "      <td>off</td>\n",
              "    </tr>\n",
              "    <tr>\n",
              "      <th>3997</th>\n",
              "      <td>TA_HL1105</td>\n",
              "      <td>yepdithan seruppala adichalum arasiyalvathikku...</td>\n",
              "      <td>off</td>\n",
              "    </tr>\n",
              "    <tr>\n",
              "      <th>3998</th>\n",
              "      <td>TA_TW1915</td>\n",
              "      <td>paithiyam ena unga vanthu full ah forward msg ...</td>\n",
              "      <td>off</td>\n",
              "    </tr>\n",
              "    <tr>\n",
              "      <th>3999</th>\n",
              "      <td>TA_TW4528</td>\n",
              "      <td>itha vidaa kevalam veraa irukaa vijay ku</td>\n",
              "      <td>off</td>\n",
              "    </tr>\n",
              "  </tbody>\n",
              "</table>\n",
              "<p>4000 rows × 3 columns</p>\n",
              "</div>"
            ],
            "text/plain": [
              "             id                                               text label\n",
              "0      TA_HL100  iyaooo kovam pattutene sothula visatha vachuru...   not\n",
              "1      TA_HL101  apo neenga atha government ku theriya paduthaliya   not\n",
              "2      TA_HL102  sundar ayyo sorry antha line ah explain pannam...   not\n",
              "3      TA_HL105  ne ena lusa yaaru edhu panaalum en da religion...   not\n",
              "4      TA_HL109  st baby ku neat ah feed panunga plzz ipdi irun...   not\n",
              "...         ...                                                ...   ...\n",
              "3995  TA_TW6620  yaroda body structure semaya irukum sema mood ...   off\n",
              "3996  TA_TW3336  yenda naangala politics varom nu pala varusham...   off\n",
              "3997  TA_HL1105  yepdithan seruppala adichalum arasiyalvathikku...   off\n",
              "3998  TA_TW1915  paithiyam ena unga vanthu full ah forward msg ...   off\n",
              "3999  TA_TW4528           itha vidaa kevalam veraa irukaa vijay ku   off\n",
              "\n",
              "[4000 rows x 3 columns]"
            ]
          },
          "metadata": {
            "tags": []
          },
          "execution_count": 23
        }
      ]
    },
    {
      "cell_type": "code",
      "metadata": {
        "id": "FXAD5KUHtE34"
      },
      "source": [
        "df.to_csv('/content/drive/MyDrive/Offensive language detection csv/subtask 2/tamil train.csv',index=False)"
      ],
      "execution_count": null,
      "outputs": []
    },
    {
      "cell_type": "code",
      "metadata": {
        "id": "T3PX72CYtrf0"
      },
      "source": [
        "df=pd.read_csv('/content/drive/MyDrive/Offensive Language Detection/subtask 2/Tamil_hasoc_tanglish_test_withlabels.tsv',delimiter='\\t',header=None)"
      ],
      "execution_count": null,
      "outputs": []
    },
    {
      "cell_type": "code",
      "metadata": {
        "id": "Y5O7Z3_Zu1tu"
      },
      "source": [
        "df.columns=['id','text','label']"
      ],
      "execution_count": null,
      "outputs": []
    },
    {
      "cell_type": "code",
      "metadata": {
        "colab": {
          "base_uri": "https://localhost:8080/"
        },
        "id": "PI3TnlmdvrES",
        "outputId": "ee60091f-3ab8-4d9c-f622-c8f3aa48048c"
      },
      "source": [
        "df['label']=df['label'].str.lower()"
      ],
      "execution_count": null,
      "outputs": [
        {
          "output_type": "stream",
          "text": [
            "/usr/local/lib/python3.7/dist-packages/ipykernel_launcher.py:1: SettingWithCopyWarning: \n",
            "A value is trying to be set on a copy of a slice from a DataFrame.\n",
            "Try using .loc[row_indexer,col_indexer] = value instead\n",
            "\n",
            "See the caveats in the documentation: https://pandas.pydata.org/pandas-docs/stable/user_guide/indexing.html#returning-a-view-versus-a-copy\n",
            "  \"\"\"Entry point for launching an IPython kernel.\n"
          ],
          "name": "stderr"
        }
      ]
    },
    {
      "cell_type": "code",
      "metadata": {
        "colab": {
          "base_uri": "https://localhost:8080/",
          "height": 417
        },
        "id": "21mUn7nowKIb",
        "outputId": "2162b2ca-f91f-4905-cb4e-4926443549ef"
      },
      "source": [
        "df"
      ],
      "execution_count": null,
      "outputs": [
        {
          "output_type": "execute_result",
          "data": {
            "text/html": [
              "<div>\n",
              "<style scoped>\n",
              "    .dataframe tbody tr th:only-of-type {\n",
              "        vertical-align: middle;\n",
              "    }\n",
              "\n",
              "    .dataframe tbody tr th {\n",
              "        vertical-align: top;\n",
              "    }\n",
              "\n",
              "    .dataframe thead th {\n",
              "        text-align: right;\n",
              "    }\n",
              "</style>\n",
              "<table border=\"1\" class=\"dataframe\">\n",
              "  <thead>\n",
              "    <tr style=\"text-align: right;\">\n",
              "      <th></th>\n",
              "      <th>id</th>\n",
              "      <th>text</th>\n",
              "      <th>label</th>\n",
              "    </tr>\n",
              "  </thead>\n",
              "  <tbody>\n",
              "    <tr>\n",
              "      <th>0</th>\n",
              "      <td>TA_TW15946</td>\n",
              "      <td>Take it this thevidiya Kandipa indha page admi...</td>\n",
              "      <td>off</td>\n",
              "    </tr>\n",
              "    <tr>\n",
              "      <th>1</th>\n",
              "      <td>TA_TW10175</td>\n",
              "      <td>enga veetla itha nadakum Athum oru varushama t...</td>\n",
              "      <td>not</td>\n",
              "    </tr>\n",
              "    <tr>\n",
              "      <th>2</th>\n",
              "      <td>TA_TW15947</td>\n",
              "      <td>Indha Sallli Punda, Dummy Pundalam Orama Iruka...</td>\n",
              "      <td>off</td>\n",
              "    </tr>\n",
              "    <tr>\n",
              "      <th>3</th>\n",
              "      <td>TA_TW15174</td>\n",
              "      <td>Juriya poola tier 1 la umburan tha kulla punda...</td>\n",
              "      <td>off</td>\n",
              "    </tr>\n",
              "    <tr>\n",
              "      <th>4</th>\n",
              "      <td>TA_TW15182</td>\n",
              "      <td>Kullans lam umba therila Loosu kuthi maari umb...</td>\n",
              "      <td>off</td>\n",
              "    </tr>\n",
              "    <tr>\n",
              "      <th>...</th>\n",
              "      <td>...</td>\n",
              "      <td>...</td>\n",
              "      <td>...</td>\n",
              "    </tr>\n",
              "    <tr>\n",
              "      <th>935</th>\n",
              "      <td>TA_TW15928</td>\n",
              "      <td>Woman with a bhindi picture on a logo promotes...</td>\n",
              "      <td>off</td>\n",
              "    </tr>\n",
              "    <tr>\n",
              "      <th>936</th>\n",
              "      <td>TA_TW10014</td>\n",
              "      <td>Worst ra Vara vara Namma Society kevalama poit...</td>\n",
              "      <td>off</td>\n",
              "    </tr>\n",
              "    <tr>\n",
              "      <th>937</th>\n",
              "      <td>TA_TW10134</td>\n",
              "      <td>Yeallarukum reply pandringa namma #TAG RakidaR...</td>\n",
              "      <td>not</td>\n",
              "    </tr>\n",
              "    <tr>\n",
              "      <th>938</th>\n",
              "      <td>TA_TW10418</td>\n",
              "      <td>Yeva yeva valkaiyelam flashlight adicha maari ...</td>\n",
              "      <td>not</td>\n",
              "    </tr>\n",
              "    <tr>\n",
              "      <th>939</th>\n",
              "      <td>TA_TW13798</td>\n",
              "      <td>Deiii udhay sunniya oomburathuku 200 pothumad...</td>\n",
              "      <td>off</td>\n",
              "    </tr>\n",
              "  </tbody>\n",
              "</table>\n",
              "<p>940 rows × 3 columns</p>\n",
              "</div>"
            ],
            "text/plain": [
              "             id                                               text label\n",
              "0    TA_TW15946  Take it this thevidiya Kandipa indha page admi...   off\n",
              "1    TA_TW10175  enga veetla itha nadakum Athum oru varushama t...   not\n",
              "2    TA_TW15947  Indha Sallli Punda, Dummy Pundalam Orama Iruka...   off\n",
              "3    TA_TW15174  Juriya poola tier 1 la umburan tha kulla punda...   off\n",
              "4    TA_TW15182  Kullans lam umba therila Loosu kuthi maari umb...   off\n",
              "..          ...                                                ...   ...\n",
              "935  TA_TW15928  Woman with a bhindi picture on a logo promotes...   off\n",
              "936  TA_TW10014  Worst ra Vara vara Namma Society kevalama poit...   off\n",
              "937  TA_TW10134  Yeallarukum reply pandringa namma #TAG RakidaR...   not\n",
              "938  TA_TW10418  Yeva yeva valkaiyelam flashlight adicha maari ...   not\n",
              "939  TA_TW13798   Deiii udhay sunniya oomburathuku 200 pothumad...   off\n",
              "\n",
              "[940 rows x 3 columns]"
            ]
          },
          "metadata": {
            "tags": []
          },
          "execution_count": 52
        }
      ]
    },
    {
      "cell_type": "code",
      "metadata": {
        "colab": {
          "base_uri": "https://localhost:8080/"
        },
        "id": "5o7ofmP8wXUF",
        "outputId": "56063932-8cfd-424c-d78e-99244d97e246"
      },
      "source": [
        "df['text']=df['text'].apply(lambda x: p.clean(x))"
      ],
      "execution_count": null,
      "outputs": [
        {
          "output_type": "stream",
          "text": [
            "/usr/local/lib/python3.7/dist-packages/ipykernel_launcher.py:1: SettingWithCopyWarning: \n",
            "A value is trying to be set on a copy of a slice from a DataFrame.\n",
            "Try using .loc[row_indexer,col_indexer] = value instead\n",
            "\n",
            "See the caveats in the documentation: https://pandas.pydata.org/pandas-docs/stable/user_guide/indexing.html#returning-a-view-versus-a-copy\n",
            "  \"\"\"Entry point for launching an IPython kernel.\n"
          ],
          "name": "stderr"
        }
      ]
    },
    {
      "cell_type": "code",
      "metadata": {
        "id": "5HtLJTNmwoUh"
      },
      "source": [
        "import warnings\n",
        "warnings.filterwarnings('ignore')"
      ],
      "execution_count": null,
      "outputs": []
    },
    {
      "cell_type": "code",
      "metadata": {
        "id": "zYpN9ZyvwpmM"
      },
      "source": [
        "df['text'] = df['text'].str.lower().str.replace('[^\\w\\s]',' ').str.replace('\\s\\s+', ' ')"
      ],
      "execution_count": null,
      "outputs": []
    },
    {
      "cell_type": "code",
      "metadata": {
        "colab": {
          "base_uri": "https://localhost:8080/",
          "height": 417
        },
        "id": "cRYDyWqwxK3_",
        "outputId": "3b282efe-a4af-4daf-f21c-0fe817253767"
      },
      "source": [
        "df"
      ],
      "execution_count": null,
      "outputs": [
        {
          "output_type": "execute_result",
          "data": {
            "text/html": [
              "<div>\n",
              "<style scoped>\n",
              "    .dataframe tbody tr th:only-of-type {\n",
              "        vertical-align: middle;\n",
              "    }\n",
              "\n",
              "    .dataframe tbody tr th {\n",
              "        vertical-align: top;\n",
              "    }\n",
              "\n",
              "    .dataframe thead th {\n",
              "        text-align: right;\n",
              "    }\n",
              "</style>\n",
              "<table border=\"1\" class=\"dataframe\">\n",
              "  <thead>\n",
              "    <tr style=\"text-align: right;\">\n",
              "      <th></th>\n",
              "      <th>id</th>\n",
              "      <th>text</th>\n",
              "      <th>label</th>\n",
              "    </tr>\n",
              "  </thead>\n",
              "  <tbody>\n",
              "    <tr>\n",
              "      <th>0</th>\n",
              "      <td>TA_TW15946</td>\n",
              "      <td>take it this thevidiya kandipa indha page admi...</td>\n",
              "      <td>off</td>\n",
              "    </tr>\n",
              "    <tr>\n",
              "      <th>1</th>\n",
              "      <td>TA_TW10175</td>\n",
              "      <td>enga veetla itha nadakum athum oru varushama t...</td>\n",
              "      <td>not</td>\n",
              "    </tr>\n",
              "    <tr>\n",
              "      <th>2</th>\n",
              "      <td>TA_TW15947</td>\n",
              "      <td>indha sallli punda dummy pundalam orama irukan...</td>\n",
              "      <td>off</td>\n",
              "    </tr>\n",
              "    <tr>\n",
              "      <th>3</th>\n",
              "      <td>TA_TW15174</td>\n",
              "      <td>juriya poola tier la umburan tha kulla pundai ...</td>\n",
              "      <td>off</td>\n",
              "    </tr>\n",
              "    <tr>\n",
              "      <th>4</th>\n",
              "      <td>TA_TW15182</td>\n",
              "      <td>kullans lam umba therila loosu kuthi maari umb...</td>\n",
              "      <td>off</td>\n",
              "    </tr>\n",
              "    <tr>\n",
              "      <th>...</th>\n",
              "      <td>...</td>\n",
              "      <td>...</td>\n",
              "      <td>...</td>\n",
              "    </tr>\n",
              "    <tr>\n",
              "      <th>935</th>\n",
              "      <td>TA_TW15928</td>\n",
              "      <td>woman with a bhindi picture on a logo promotes...</td>\n",
              "      <td>off</td>\n",
              "    </tr>\n",
              "    <tr>\n",
              "      <th>936</th>\n",
              "      <td>TA_TW10014</td>\n",
              "      <td>worst ra vara vara namma society kevalama poit...</td>\n",
              "      <td>off</td>\n",
              "    </tr>\n",
              "    <tr>\n",
              "      <th>937</th>\n",
              "      <td>TA_TW10134</td>\n",
              "      <td>yeallarukum reply pandringa namma rakidarakida...</td>\n",
              "      <td>not</td>\n",
              "    </tr>\n",
              "    <tr>\n",
              "      <th>938</th>\n",
              "      <td>TA_TW10418</td>\n",
              "      <td>yeva yeva valkaiyelam flashlight adicha maari ...</td>\n",
              "      <td>not</td>\n",
              "    </tr>\n",
              "    <tr>\n",
              "      <th>939</th>\n",
              "      <td>TA_TW13798</td>\n",
              "      <td>deiii udhay sunniya oomburathuku pothumada una...</td>\n",
              "      <td>off</td>\n",
              "    </tr>\n",
              "  </tbody>\n",
              "</table>\n",
              "<p>940 rows × 3 columns</p>\n",
              "</div>"
            ],
            "text/plain": [
              "             id                                               text label\n",
              "0    TA_TW15946  take it this thevidiya kandipa indha page admi...   off\n",
              "1    TA_TW10175  enga veetla itha nadakum athum oru varushama t...   not\n",
              "2    TA_TW15947  indha sallli punda dummy pundalam orama irukan...   off\n",
              "3    TA_TW15174  juriya poola tier la umburan tha kulla pundai ...   off\n",
              "4    TA_TW15182  kullans lam umba therila loosu kuthi maari umb...   off\n",
              "..          ...                                                ...   ...\n",
              "935  TA_TW15928  woman with a bhindi picture on a logo promotes...   off\n",
              "936  TA_TW10014  worst ra vara vara namma society kevalama poit...   off\n",
              "937  TA_TW10134  yeallarukum reply pandringa namma rakidarakida...   not\n",
              "938  TA_TW10418  yeva yeva valkaiyelam flashlight adicha maari ...   not\n",
              "939  TA_TW13798  deiii udhay sunniya oomburathuku pothumada una...   off\n",
              "\n",
              "[940 rows x 3 columns]"
            ]
          },
          "metadata": {
            "tags": []
          },
          "execution_count": 61
        }
      ]
    },
    {
      "cell_type": "code",
      "metadata": {
        "id": "Lq-uG-gBxLgR"
      },
      "source": [
        "df.to_csv('/content/drive/MyDrive/Offensive language detection csv/subtask 2/tamil test.csv',index=False)"
      ],
      "execution_count": null,
      "outputs": []
    },
    {
      "cell_type": "code",
      "metadata": {
        "id": "xadfprUzxUyY"
      },
      "source": [
        "df=pd.read_excel('/content/drive/MyDrive/Offensive Language Detection/subtask 2/Malayalam_offensive_data_Training-YT.xlsx')\n",
        "df.columns=['id','text','label']"
      ],
      "execution_count": null,
      "outputs": []
    },
    {
      "cell_type": "code",
      "metadata": {
        "id": "qT8xT8z9yEXG"
      },
      "source": [
        "df['label']=df['label'].str.lower()"
      ],
      "execution_count": null,
      "outputs": []
    },
    {
      "cell_type": "code",
      "metadata": {
        "id": "YIBmpEMSzWU_"
      },
      "source": [
        "df=df.dropna()"
      ],
      "execution_count": null,
      "outputs": []
    },
    {
      "cell_type": "code",
      "metadata": {
        "colab": {
          "base_uri": "https://localhost:8080/",
          "height": 35
        },
        "id": "dJFJkX2Sy6WJ",
        "outputId": "6c41882c-aaef-4ccc-9b6c-f21a031da1e1"
      },
      "source": [
        "p.clean(df['text'][0])"
      ],
      "execution_count": null,
      "outputs": [
        {
          "output_type": "execute_result",
          "data": {
            "application/vnd.google.colaboratory.intrinsic+json": {
              "type": "string"
            },
            "text/plain": [
              "'Thaankal enthaan cheyyarullath?'"
            ]
          },
          "metadata": {
            "tags": []
          },
          "execution_count": 85
        }
      ]
    },
    {
      "cell_type": "code",
      "metadata": {
        "id": "lKbrQ909yh2o"
      },
      "source": [
        "df['text']=df['text'].apply(lambda x: p.clean(x))"
      ],
      "execution_count": null,
      "outputs": []
    },
    {
      "cell_type": "code",
      "metadata": {
        "id": "65YwlHG5zMpi"
      },
      "source": [
        "df['text'] = df['text'].str.lower().str.replace('[^\\w\\s]',' ').str.replace('\\s\\s+', ' ')"
      ],
      "execution_count": null,
      "outputs": []
    },
    {
      "cell_type": "code",
      "metadata": {
        "colab": {
          "base_uri": "https://localhost:8080/",
          "height": 417
        },
        "id": "8DoaXmILzifq",
        "outputId": "385ecddf-b246-4e45-da34-738220f31e3f"
      },
      "source": [
        "df"
      ],
      "execution_count": null,
      "outputs": [
        {
          "output_type": "execute_result",
          "data": {
            "text/html": [
              "<div>\n",
              "<style scoped>\n",
              "    .dataframe tbody tr th:only-of-type {\n",
              "        vertical-align: middle;\n",
              "    }\n",
              "\n",
              "    .dataframe tbody tr th {\n",
              "        vertical-align: top;\n",
              "    }\n",
              "\n",
              "    .dataframe thead th {\n",
              "        text-align: right;\n",
              "    }\n",
              "</style>\n",
              "<table border=\"1\" class=\"dataframe\">\n",
              "  <thead>\n",
              "    <tr style=\"text-align: right;\">\n",
              "      <th></th>\n",
              "      <th>id</th>\n",
              "      <th>text</th>\n",
              "      <th>label</th>\n",
              "    </tr>\n",
              "  </thead>\n",
              "  <tbody>\n",
              "    <tr>\n",
              "      <th>0</th>\n",
              "      <td>MA_YT001</td>\n",
              "      <td>thaankal enthaan cheyyarullath</td>\n",
              "      <td>not</td>\n",
              "    </tr>\n",
              "    <tr>\n",
              "      <th>1</th>\n",
              "      <td>MA_YT002</td>\n",
              "      <td>ee theetam wcc feminichigalude news aarkk vena...</td>\n",
              "      <td>off</td>\n",
              "    </tr>\n",
              "    <tr>\n",
              "      <th>2</th>\n",
              "      <td>MA_YT003</td>\n",
              "      <td>fukru nem tiktok oolakale vilich charcha nadat...</td>\n",
              "      <td>off</td>\n",
              "    </tr>\n",
              "    <tr>\n",
              "      <th>3</th>\n",
              "      <td>MA_YT004</td>\n",
              "      <td>aashiq abu produce cheytharunnel ee problems u...</td>\n",
              "      <td>not</td>\n",
              "    </tr>\n",
              "    <tr>\n",
              "      <th>4</th>\n",
              "      <td>MA_YT005</td>\n",
              "      <td>pennungal oru team aayal ath moonjum ennu epoo...</td>\n",
              "      <td>off</td>\n",
              "    </tr>\n",
              "    <tr>\n",
              "      <th>...</th>\n",
              "      <td>...</td>\n",
              "      <td>...</td>\n",
              "      <td>...</td>\n",
              "    </tr>\n",
              "    <tr>\n",
              "      <th>3995</th>\n",
              "      <td>MA_YT3996</td>\n",
              "      <td>eee parasayam thanne thettanu ella achanmaraya...</td>\n",
              "      <td>not</td>\n",
              "    </tr>\n",
              "    <tr>\n",
              "      <th>3996</th>\n",
              "      <td>MA_YT3997</td>\n",
              "      <td>ente bagathum thetundh ee vazhikke veraan paad...</td>\n",
              "      <td>not</td>\n",
              "    </tr>\n",
              "    <tr>\n",
              "      <th>3997</th>\n",
              "      <td>MA_YT3998</td>\n",
              "      <td>kuttiye njan kettikolaam swarnam onnum venda e...</td>\n",
              "      <td>not</td>\n",
              "    </tr>\n",
              "    <tr>\n",
              "      <th>3998</th>\n",
              "      <td>MA_YT3999</td>\n",
              "      <td>chumma veettil irunna chakkiye trollanmaarkku ...</td>\n",
              "      <td>not</td>\n",
              "    </tr>\n",
              "    <tr>\n",
              "      <th>3999</th>\n",
              "      <td>MA_YT4000</td>\n",
              "      <td>kalidasan nalla look aayallo kanan</td>\n",
              "      <td>not</td>\n",
              "    </tr>\n",
              "  </tbody>\n",
              "</table>\n",
              "<p>3999 rows × 3 columns</p>\n",
              "</div>"
            ],
            "text/plain": [
              "             id                                               text label\n",
              "0      MA_YT001                    thaankal enthaan cheyyarullath    not\n",
              "1      MA_YT002  ee theetam wcc feminichigalude news aarkk vena...   off\n",
              "2      MA_YT003  fukru nem tiktok oolakale vilich charcha nadat...   off\n",
              "3      MA_YT004  aashiq abu produce cheytharunnel ee problems u...   not\n",
              "4      MA_YT005  pennungal oru team aayal ath moonjum ennu epoo...   off\n",
              "...         ...                                                ...   ...\n",
              "3995  MA_YT3996  eee parasayam thanne thettanu ella achanmaraya...   not\n",
              "3996  MA_YT3997  ente bagathum thetundh ee vazhikke veraan paad...   not\n",
              "3997  MA_YT3998  kuttiye njan kettikolaam swarnam onnum venda e...   not\n",
              "3998  MA_YT3999  chumma veettil irunna chakkiye trollanmaarkku ...   not\n",
              "3999  MA_YT4000                 kalidasan nalla look aayallo kanan   not\n",
              "\n",
              "[3999 rows x 3 columns]"
            ]
          },
          "metadata": {
            "tags": []
          },
          "execution_count": 89
        }
      ]
    },
    {
      "cell_type": "code",
      "metadata": {
        "id": "yV5TqBjwzk0E"
      },
      "source": [
        "df.to_csv('/content/drive/MyDrive/Offensive language detection csv/subtask 2/malayalam train.csv',index=False)"
      ],
      "execution_count": null,
      "outputs": []
    },
    {
      "cell_type": "code",
      "metadata": {
        "id": "Bi8jwSlz0NVJ"
      },
      "source": [
        "df=pd.read_csv('/content/drive/MyDrive/Offensive Language Detection/subtask 2/malayalam_hasoc_tanglish_test_withlabels.tsv',delimiter='\\t',header=None)"
      ],
      "execution_count": null,
      "outputs": []
    },
    {
      "cell_type": "code",
      "metadata": {
        "id": "D2dcfvbb0a_a"
      },
      "source": [
        "df.columns=['id','text','label']"
      ],
      "execution_count": null,
      "outputs": []
    },
    {
      "cell_type": "code",
      "metadata": {
        "id": "1SnQPPrb0bpR"
      },
      "source": [
        "df['label']=df['label'].str.lower()"
      ],
      "execution_count": null,
      "outputs": []
    },
    {
      "cell_type": "code",
      "metadata": {
        "id": "nYxYacBu0x7q"
      },
      "source": [
        "df['text']=df['text'].apply(lambda x: p.clean(x))"
      ],
      "execution_count": null,
      "outputs": []
    },
    {
      "cell_type": "code",
      "metadata": {
        "id": "9-TooQs-092_"
      },
      "source": [
        "df['text'] = df['text'].str.lower().str.replace('[^\\w\\s]',' ').str.replace('\\s\\s+', ' ')"
      ],
      "execution_count": null,
      "outputs": []
    },
    {
      "cell_type": "code",
      "metadata": {
        "colab": {
          "base_uri": "https://localhost:8080/",
          "height": 417
        },
        "id": "8fH3De5e1CPi",
        "outputId": "a1ae0c2b-ad54-4a2f-ea46-ddaea748b7e8"
      },
      "source": [
        "df"
      ],
      "execution_count": null,
      "outputs": [
        {
          "output_type": "execute_result",
          "data": {
            "text/html": [
              "<div>\n",
              "<style scoped>\n",
              "    .dataframe tbody tr th:only-of-type {\n",
              "        vertical-align: middle;\n",
              "    }\n",
              "\n",
              "    .dataframe tbody tr th {\n",
              "        vertical-align: top;\n",
              "    }\n",
              "\n",
              "    .dataframe thead th {\n",
              "        text-align: right;\n",
              "    }\n",
              "</style>\n",
              "<table border=\"1\" class=\"dataframe\">\n",
              "  <thead>\n",
              "    <tr style=\"text-align: right;\">\n",
              "      <th></th>\n",
              "      <th>id</th>\n",
              "      <th>text</th>\n",
              "      <th>label</th>\n",
              "    </tr>\n",
              "  </thead>\n",
              "  <tbody>\n",
              "    <tr>\n",
              "      <th>0</th>\n",
              "      <td>MA_YT5000</td>\n",
              "      <td>chenkol vendath thanne aayirunnu</td>\n",
              "      <td>not</td>\n",
              "    </tr>\n",
              "    <tr>\n",
              "      <th>1</th>\n",
              "      <td>MA_YT5001</td>\n",
              "      <td>sundardasinte bhakshnam vakkukal ano</td>\n",
              "      <td>not</td>\n",
              "    </tr>\n",
              "    <tr>\n",
              "      <th>2</th>\n",
              "      <td>MA_YT5002</td>\n",
              "      <td>akasha dooth oru copy adi movie anu who will l...</td>\n",
              "      <td>not</td>\n",
              "    </tr>\n",
              "    <tr>\n",
              "      <th>3</th>\n",
              "      <td>MA_YT5003</td>\n",
              "      <td>purath onnum pondade oru pennum payyanum onnic...</td>\n",
              "      <td>not</td>\n",
              "    </tr>\n",
              "    <tr>\n",
              "      <th>4</th>\n",
              "      <td>MA_YT5004</td>\n",
              "      <td>avasanam fahad oru oscar medikkumbazhum lalett...</td>\n",
              "      <td>not</td>\n",
              "    </tr>\n",
              "    <tr>\n",
              "      <th>...</th>\n",
              "      <td>...</td>\n",
              "      <td>...</td>\n",
              "      <td>...</td>\n",
              "    </tr>\n",
              "    <tr>\n",
              "      <th>946</th>\n",
              "      <td>MA_YT5995</td>\n",
              "      <td>njanum ee myran karanam sndpyil pravarthikkan ...</td>\n",
              "      <td>off</td>\n",
              "    </tr>\n",
              "    <tr>\n",
              "      <th>947</th>\n",
              "      <td>MA_YT5996</td>\n",
              "      <td>allankil thanne malayalik enth kittiyalum math...</td>\n",
              "      <td>not</td>\n",
              "    </tr>\n",
              "    <tr>\n",
              "      <th>948</th>\n",
              "      <td>MA_YT5997</td>\n",
              "      <td>poda poora avante oru konavathiyaram nee theer...</td>\n",
              "      <td>not</td>\n",
              "    </tr>\n",
              "    <tr>\n",
              "      <th>949</th>\n",
              "      <td>MA_YT5998</td>\n",
              "      <td>satyam aaru paranjallum athu angikarikkana man...</td>\n",
              "      <td>not</td>\n",
              "    </tr>\n",
              "    <tr>\n",
              "      <th>950</th>\n",
              "      <td>MA_YT5999</td>\n",
              "      <td>oru kudumbathinte kuthaka ennulla reethi maatt...</td>\n",
              "      <td>not</td>\n",
              "    </tr>\n",
              "  </tbody>\n",
              "</table>\n",
              "<p>951 rows × 3 columns</p>\n",
              "</div>"
            ],
            "text/plain": [
              "            id                                               text label\n",
              "0    MA_YT5000                  chenkol vendath thanne aayirunnu    not\n",
              "1    MA_YT5001              sundardasinte bhakshnam vakkukal ano    not\n",
              "2    MA_YT5002  akasha dooth oru copy adi movie anu who will l...   not\n",
              "3    MA_YT5003  purath onnum pondade oru pennum payyanum onnic...   not\n",
              "4    MA_YT5004  avasanam fahad oru oscar medikkumbazhum lalett...   not\n",
              "..         ...                                                ...   ...\n",
              "946  MA_YT5995  njanum ee myran karanam sndpyil pravarthikkan ...   off\n",
              "947  MA_YT5996  allankil thanne malayalik enth kittiyalum math...   not\n",
              "948  MA_YT5997  poda poora avante oru konavathiyaram nee theer...   not\n",
              "949  MA_YT5998  satyam aaru paranjallum athu angikarikkana man...   not\n",
              "950  MA_YT5999  oru kudumbathinte kuthaka ennulla reethi maatt...   not\n",
              "\n",
              "[951 rows x 3 columns]"
            ]
          },
          "metadata": {
            "tags": []
          },
          "execution_count": 105
        }
      ]
    },
    {
      "cell_type": "code",
      "metadata": {
        "id": "Cy8MSYeN1ChO"
      },
      "source": [
        "df.to_csv('/content/drive/MyDrive/Offensive language detection csv/subtask 2/malayalam test.csv',index=False)"
      ],
      "execution_count": null,
      "outputs": []
    },
    {
      "cell_type": "code",
      "metadata": {
        "id": "U-sMl57r1TiL"
      },
      "source": [
        "df=pd.read_csv('/content/drive/MyDrive/Offensive Language Detection/subtask 1/tamil_offensive_train subtask 1.tsv',delimiter='\\t')"
      ],
      "execution_count": null,
      "outputs": []
    },
    {
      "cell_type": "code",
      "metadata": {
        "id": "GOKFiU761dlv"
      },
      "source": [
        "df['category']=df['category'].str.lower()"
      ],
      "execution_count": null,
      "outputs": []
    },
    {
      "cell_type": "code",
      "metadata": {
        "colab": {
          "base_uri": "https://localhost:8080/",
          "height": 417
        },
        "id": "RghXkFFN1ePD",
        "outputId": "96444239-e327-4043-d7a0-a1154adbbf5f"
      },
      "source": [
        "df"
      ],
      "execution_count": null,
      "outputs": [
        {
          "output_type": "execute_result",
          "data": {
            "text/html": [
              "<div>\n",
              "<style scoped>\n",
              "    .dataframe tbody tr th:only-of-type {\n",
              "        vertical-align: middle;\n",
              "    }\n",
              "\n",
              "    .dataframe tbody tr th {\n",
              "        vertical-align: top;\n",
              "    }\n",
              "\n",
              "    .dataframe thead th {\n",
              "        text-align: right;\n",
              "    }\n",
              "</style>\n",
              "<table border=\"1\" class=\"dataframe\">\n",
              "  <thead>\n",
              "    <tr style=\"text-align: right;\">\n",
              "      <th></th>\n",
              "      <th>id</th>\n",
              "      <th>text</th>\n",
              "      <th>category</th>\n",
              "    </tr>\n",
              "  </thead>\n",
              "  <tbody>\n",
              "    <tr>\n",
              "      <th>0</th>\n",
              "      <td>tam1</td>\n",
              "      <td>திருமலை நாயக்கர் பேரவை சார்பாக படம் வெற்றி பெற...</td>\n",
              "      <td>not</td>\n",
              "    </tr>\n",
              "    <tr>\n",
              "      <th>1</th>\n",
              "      <td>tam2</td>\n",
              "      <td>இந்த ட்ரெய்லர் கூட பார்க்கிற மாதிரி இல்லை.. இத...</td>\n",
              "      <td>off</td>\n",
              "    </tr>\n",
              "    <tr>\n",
              "      <th>2</th>\n",
              "      <td>tam3</td>\n",
              "      <td>மைசூரு செட்டியார் சமூகத்தின் சார்பாக இப்படம் வ...</td>\n",
              "      <td>not</td>\n",
              "    </tr>\n",
              "    <tr>\n",
              "      <th>3</th>\n",
              "      <td>tam4</td>\n",
              "      <td>மொத்த சாதியும் ஒரு சாதிக்கு எதிரா நிக்குது.......</td>\n",
              "      <td>off</td>\n",
              "    </tr>\n",
              "    <tr>\n",
              "      <th>4</th>\n",
              "      <td>tam5</td>\n",
              "      <td>only for விஜய் சேதுபதி and STR</td>\n",
              "      <td>not</td>\n",
              "    </tr>\n",
              "    <tr>\n",
              "      <th>...</th>\n",
              "      <td>...</td>\n",
              "      <td>...</td>\n",
              "      <td>...</td>\n",
              "    </tr>\n",
              "    <tr>\n",
              "      <th>5875</th>\n",
              "      <td>tam5876</td>\n",
              "      <td>இப்போதான் ஜாதி பிரச்சினை இல்லாம இருக்கு இப்போ ...</td>\n",
              "      <td>not</td>\n",
              "    </tr>\n",
              "    <tr>\n",
              "      <th>5876</th>\n",
              "      <td>tam5877</td>\n",
              "      <td>இது ஒரு சாதி ரீதியான படம் இல்லை தான் செல்லும் ...</td>\n",
              "      <td>not</td>\n",
              "    </tr>\n",
              "    <tr>\n",
              "      <th>5877</th>\n",
              "      <td>tam5878</td>\n",
              "      <td>கதை தெரியவில்லை  இருந்தாலும் மாறுபட்ட சிந்தனை ...</td>\n",
              "      <td>not</td>\n",
              "    </tr>\n",
              "    <tr>\n",
              "      <th>5878</th>\n",
              "      <td>tam5879</td>\n",
              "      <td>அட பரவால்லையே 8.5 டிஸ்லைக்ஸ் போட்ருக்கானுங்க.....</td>\n",
              "      <td>off</td>\n",
              "    </tr>\n",
              "    <tr>\n",
              "      <th>5879</th>\n",
              "      <td>tam5880</td>\n",
              "      <td>உதயநிதிக்கு நடிப்பு வரலனு சொல்ரவங்க லைக் போடுங...</td>\n",
              "      <td>not</td>\n",
              "    </tr>\n",
              "  </tbody>\n",
              "</table>\n",
              "<p>5880 rows × 3 columns</p>\n",
              "</div>"
            ],
            "text/plain": [
              "           id                                               text category\n",
              "0        tam1  திருமலை நாயக்கர் பேரவை சார்பாக படம் வெற்றி பெற...      not\n",
              "1        tam2  இந்த ட்ரெய்லர் கூட பார்க்கிற மாதிரி இல்லை.. இத...      off\n",
              "2        tam3  மைசூரு செட்டியார் சமூகத்தின் சார்பாக இப்படம் வ...      not\n",
              "3        tam4  மொத்த சாதியும் ஒரு சாதிக்கு எதிரா நிக்குது.......      off\n",
              "4        tam5                     only for விஜய் சேதுபதி and STR      not\n",
              "...       ...                                                ...      ...\n",
              "5875  tam5876  இப்போதான் ஜாதி பிரச்சினை இல்லாம இருக்கு இப்போ ...      not\n",
              "5876  tam5877  இது ஒரு சாதி ரீதியான படம் இல்லை தான் செல்லும் ...      not\n",
              "5877  tam5878  கதை தெரியவில்லை  இருந்தாலும் மாறுபட்ட சிந்தனை ...      not\n",
              "5878  tam5879  அட பரவால்லையே 8.5 டிஸ்லைக்ஸ் போட்ருக்கானுங்க.....      off\n",
              "5879  tam5880  உதயநிதிக்கு நடிப்பு வரலனு சொல்ரவங்க லைக் போடுங...      not\n",
              "\n",
              "[5880 rows x 3 columns]"
            ]
          },
          "metadata": {
            "tags": []
          },
          "execution_count": 122
        }
      ]
    },
    {
      "cell_type": "code",
      "metadata": {
        "id": "WHKaYH662e6e"
      },
      "source": [
        "df['text']=df['text'].str.lower()"
      ],
      "execution_count": null,
      "outputs": []
    },
    {
      "cell_type": "code",
      "metadata": {
        "id": "qx9vUnwc2vFg"
      },
      "source": [
        "df.to_csv('/content/drive/MyDrive/Offensive language detection csv/subtask 1/tamil train.csv',index=False)"
      ],
      "execution_count": null,
      "outputs": []
    }
  ]
}