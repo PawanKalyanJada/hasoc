{
  "nbformat": 4,
  "nbformat_minor": 0,
  "metadata": {
    "colab": {
      "name": "off preprocessing test.ipynb",
      "provenance": [],
      "mount_file_id": "1YhsHTJgKaWuhihkHVFXk4DsczxzsWJho",
      "authorship_tag": "ABX9TyO3ioRQ+8kUC075tkrfYCmy",
      "include_colab_link": true
    },
    "kernelspec": {
      "name": "python3",
      "display_name": "Python 3"
    },
    "language_info": {
      "name": "python"
    }
  },
  "cells": [
    {
      "cell_type": "markdown",
      "metadata": {
        "id": "view-in-github",
        "colab_type": "text"
      },
      "source": [
        "<a href=\"https://colab.research.google.com/github/PawanKalyanJada/hasoc/blob/main/preprocessing/off_preprocessing_test.ipynb\" target=\"_parent\"><img src=\"https://colab.research.google.com/assets/colab-badge.svg\" alt=\"Open In Colab\"/></a>"
      ]
    },
    {
      "cell_type": "code",
      "metadata": {
        "id": "ahDj0SOXpZa-"
      },
      "source": [
        "import pandas as pd"
      ],
      "execution_count": null,
      "outputs": []
    },
    {
      "cell_type": "code",
      "metadata": {
        "id": "CQMAmeP9puIn"
      },
      "source": [
        "df=pd.read_csv('/content/drive/MyDrive/offensive subtask 2 test data/tamil test.csv',header=None)\n",
        "df.columns=['id','text']"
      ],
      "execution_count": null,
      "outputs": []
    },
    {
      "cell_type": "code",
      "metadata": {
        "colab": {
          "base_uri": "https://localhost:8080/"
        },
        "id": "HEAFlPTLsLX_",
        "outputId": "1fa5e435-79e0-46a1-9dd9-d0992472f586"
      },
      "source": [
        "!pip install tweet-preprocessor"
      ],
      "execution_count": null,
      "outputs": [
        {
          "output_type": "stream",
          "text": [
            "Requirement already satisfied: tweet-preprocessor in /usr/local/lib/python3.7/dist-packages (0.6.0)\n"
          ],
          "name": "stdout"
        }
      ]
    },
    {
      "cell_type": "code",
      "metadata": {
        "id": "i6ZBDUSfsi-t"
      },
      "source": [
        "import preprocessor as p"
      ],
      "execution_count": null,
      "outputs": []
    },
    {
      "cell_type": "code",
      "metadata": {
        "id": "IImsI2Mgv91B"
      },
      "source": [
        "for i in range(len(df)):\n",
        "  if(not(i in [133, 143, 230, 322, 353, 365, 393, 423, 528, 539, 565])):\n",
        "    df['text'][i]=p.clean(df['text'][i])"
      ],
      "execution_count": null,
      "outputs": []
    },
    {
      "cell_type": "code",
      "metadata": {
        "id": "Em9Ye_Disljy"
      },
      "source": [
        "#df['text']=df['text'].apply(lambda x: p.clean(x))"
      ],
      "execution_count": null,
      "outputs": []
    },
    {
      "cell_type": "code",
      "metadata": {
        "id": "uxh15SCuwZh7"
      },
      "source": [
        "for i in range(len(df)):\n",
        "  if(not(i in [133, 143, 230, 322, 353, 365, 393, 423, 528, 539, 565])):\n",
        "    df['text'][i]= df['text'][i].lower().replace('[^\\w\\s]',' ').replace('\\s\\s+', ' ')"
      ],
      "execution_count": null,
      "outputs": []
    },
    {
      "cell_type": "code",
      "metadata": {
        "id": "RXUV2m4RsvYv"
      },
      "source": [
        "#df['text'] = df['text'].str.lower().str.replace('[^\\w\\s]',' ').str.replace('\\s\\s+', ' ')"
      ],
      "execution_count": null,
      "outputs": []
    },
    {
      "cell_type": "code",
      "metadata": {
        "id": "FXAD5KUHtE34"
      },
      "source": [
        "df.to_csv('/content/drive/MyDrive/off language test/subtask 2/tamil test.csv',index=False)"
      ],
      "execution_count": null,
      "outputs": []
    },
    {
      "cell_type": "code",
      "metadata": {
        "id": "xadfprUzxUyY"
      },
      "source": [
        "df=pd.read_csv('/content/drive/MyDrive/offensive subtask 2 test data/malayalam test.csv')\n",
        "df.columns=['id','text']"
      ],
      "execution_count": null,
      "outputs": []
    },
    {
      "cell_type": "code",
      "metadata": {
        "colab": {
          "base_uri": "https://localhost:8080/",
          "height": 417
        },
        "id": "7fU7R9ChyKjE",
        "outputId": "531653ae-38b7-4f19-f666-c56dcbdaa23c"
      },
      "source": [
        "df"
      ],
      "execution_count": null,
      "outputs": [
        {
          "output_type": "execute_result",
          "data": {
            "text/html": [
              "<div>\n",
              "<style scoped>\n",
              "    .dataframe tbody tr th:only-of-type {\n",
              "        vertical-align: middle;\n",
              "    }\n",
              "\n",
              "    .dataframe tbody tr th {\n",
              "        vertical-align: top;\n",
              "    }\n",
              "\n",
              "    .dataframe thead th {\n",
              "        text-align: right;\n",
              "    }\n",
              "</style>\n",
              "<table border=\"1\" class=\"dataframe\">\n",
              "  <thead>\n",
              "    <tr style=\"text-align: right;\">\n",
              "      <th></th>\n",
              "      <th>id</th>\n",
              "      <th>text</th>\n",
              "    </tr>\n",
              "  </thead>\n",
              "  <tbody>\n",
              "    <tr>\n",
              "      <th>0</th>\n",
              "      <td>MA_YT6001</td>\n",
              "      <td>athe beharyku deputationil pokam pinarai vijay...</td>\n",
              "    </tr>\n",
              "    <tr>\n",
              "      <th>1</th>\n",
              "      <td>MA_YT6002</td>\n",
              "      <td>USER cheruparamadathil than thinnunnath alla p...</td>\n",
              "    </tr>\n",
              "    <tr>\n",
              "      <th>2</th>\n",
              "      <td>MA_YT6003</td>\n",
              "      <td>USER cheruparamadathilpinaraayi shournuril oru...</td>\n",
              "    </tr>\n",
              "    <tr>\n",
              "      <th>3</th>\n",
              "      <td>MA_YT6004</td>\n",
              "      <td>USER vk pinarai thinnunnathu ninte okke theett...</td>\n",
              "    </tr>\n",
              "    <tr>\n",
              "      <th>4</th>\n",
              "      <td>MA_YT6005</td>\n",
              "      <td>USER george thante ammade poottile pooda kalay...</td>\n",
              "    </tr>\n",
              "    <tr>\n",
              "      <th>...</th>\n",
              "      <td>...</td>\n",
              "      <td>...</td>\n",
              "    </tr>\n",
              "    <tr>\n",
              "      <th>994</th>\n",
              "      <td>MA_YT6995</td>\n",
              "      <td>ente kochu tv dhaivangaleee kaatholnee</td>\n",
              "    </tr>\n",
              "    <tr>\n",
              "      <th>995</th>\n",
              "      <td>MA_YT6996</td>\n",
              "      <td>aaha jhony sins abinayikkuo ith pole</td>\n",
              "    </tr>\n",
              "    <tr>\n",
              "      <th>996</th>\n",
              "      <td>MA_YT6997</td>\n",
              "      <td>ath kaaanich reach vangan nokkunna nee enth na...</td>\n",
              "    </tr>\n",
              "    <tr>\n",
              "      <th>997</th>\n",
              "      <td>MA_YT6998</td>\n",
              "      <td>mattullavarkku vendi kalyanam kazhikkunnavar</td>\n",
              "    </tr>\n",
              "    <tr>\n",
              "      <th>998</th>\n",
              "      <td>MA_YT6999</td>\n",
              "      <td>e logathine pokk engoda evide corona alla athi...</td>\n",
              "    </tr>\n",
              "  </tbody>\n",
              "</table>\n",
              "<p>999 rows × 2 columns</p>\n",
              "</div>"
            ],
            "text/plain": [
              "            id                                               text\n",
              "0    MA_YT6001  athe beharyku deputationil pokam pinarai vijay...\n",
              "1    MA_YT6002  USER cheruparamadathil than thinnunnath alla p...\n",
              "2    MA_YT6003  USER cheruparamadathilpinaraayi shournuril oru...\n",
              "3    MA_YT6004  USER vk pinarai thinnunnathu ninte okke theett...\n",
              "4    MA_YT6005  USER george thante ammade poottile pooda kalay...\n",
              "..         ...                                                ...\n",
              "994  MA_YT6995             ente kochu tv dhaivangaleee kaatholnee\n",
              "995  MA_YT6996               aaha jhony sins abinayikkuo ith pole\n",
              "996  MA_YT6997  ath kaaanich reach vangan nokkunna nee enth na...\n",
              "997  MA_YT6998       mattullavarkku vendi kalyanam kazhikkunnavar\n",
              "998  MA_YT6999  e logathine pokk engoda evide corona alla athi...\n",
              "\n",
              "[999 rows x 2 columns]"
            ]
          },
          "metadata": {
            "tags": []
          },
          "execution_count": 69
        }
      ]
    },
    {
      "cell_type": "code",
      "metadata": {
        "id": "iUr6KUyPyXBq"
      },
      "source": [
        "df['text']=df['text'].str.lower()"
      ],
      "execution_count": null,
      "outputs": []
    },
    {
      "cell_type": "code",
      "metadata": {
        "id": "lKbrQ909yh2o"
      },
      "source": [
        "df['text']=df['text'].apply(lambda x: p.clean(x))"
      ],
      "execution_count": null,
      "outputs": []
    },
    {
      "cell_type": "code",
      "metadata": {
        "id": "65YwlHG5zMpi"
      },
      "source": [
        "df['text'] = df['text'].str.lower().str.replace('[^\\w\\s]',' ').str.replace('\\s\\s+', ' ')"
      ],
      "execution_count": null,
      "outputs": []
    },
    {
      "cell_type": "code",
      "metadata": {
        "colab": {
          "base_uri": "https://localhost:8080/",
          "height": 417
        },
        "id": "8DoaXmILzifq",
        "outputId": "c1f23ac2-9c45-4fa7-9071-cf09ac073794"
      },
      "source": [
        "df"
      ],
      "execution_count": null,
      "outputs": [
        {
          "output_type": "execute_result",
          "data": {
            "text/html": [
              "<div>\n",
              "<style scoped>\n",
              "    .dataframe tbody tr th:only-of-type {\n",
              "        vertical-align: middle;\n",
              "    }\n",
              "\n",
              "    .dataframe tbody tr th {\n",
              "        vertical-align: top;\n",
              "    }\n",
              "\n",
              "    .dataframe thead th {\n",
              "        text-align: right;\n",
              "    }\n",
              "</style>\n",
              "<table border=\"1\" class=\"dataframe\">\n",
              "  <thead>\n",
              "    <tr style=\"text-align: right;\">\n",
              "      <th></th>\n",
              "      <th>id</th>\n",
              "      <th>text</th>\n",
              "    </tr>\n",
              "  </thead>\n",
              "  <tbody>\n",
              "    <tr>\n",
              "      <th>0</th>\n",
              "      <td>MA_YT6001</td>\n",
              "      <td>athe beharyku deputationil pokam pinarai vijay...</td>\n",
              "    </tr>\n",
              "    <tr>\n",
              "      <th>1</th>\n",
              "      <td>MA_YT6002</td>\n",
              "      <td>user cheruparamadathil than thinnunnath alla p...</td>\n",
              "    </tr>\n",
              "    <tr>\n",
              "      <th>2</th>\n",
              "      <td>MA_YT6003</td>\n",
              "      <td>user cheruparamadathilpinaraayi shournuril oru...</td>\n",
              "    </tr>\n",
              "    <tr>\n",
              "      <th>3</th>\n",
              "      <td>MA_YT6004</td>\n",
              "      <td>user vk pinarai thinnunnathu ninte okke theett...</td>\n",
              "    </tr>\n",
              "    <tr>\n",
              "      <th>4</th>\n",
              "      <td>MA_YT6005</td>\n",
              "      <td>user george thante ammade poottile pooda kalay...</td>\n",
              "    </tr>\n",
              "    <tr>\n",
              "      <th>...</th>\n",
              "      <td>...</td>\n",
              "      <td>...</td>\n",
              "    </tr>\n",
              "    <tr>\n",
              "      <th>994</th>\n",
              "      <td>MA_YT6995</td>\n",
              "      <td>ente kochu tv dhaivangaleee kaatholnee</td>\n",
              "    </tr>\n",
              "    <tr>\n",
              "      <th>995</th>\n",
              "      <td>MA_YT6996</td>\n",
              "      <td>aaha jhony sins abinayikkuo ith pole</td>\n",
              "    </tr>\n",
              "    <tr>\n",
              "      <th>996</th>\n",
              "      <td>MA_YT6997</td>\n",
              "      <td>ath kaaanich reach vangan nokkunna nee enth na...</td>\n",
              "    </tr>\n",
              "    <tr>\n",
              "      <th>997</th>\n",
              "      <td>MA_YT6998</td>\n",
              "      <td>mattullavarkku vendi kalyanam kazhikkunnavar</td>\n",
              "    </tr>\n",
              "    <tr>\n",
              "      <th>998</th>\n",
              "      <td>MA_YT6999</td>\n",
              "      <td>e logathine pokk engoda evide corona alla athi...</td>\n",
              "    </tr>\n",
              "  </tbody>\n",
              "</table>\n",
              "<p>999 rows × 2 columns</p>\n",
              "</div>"
            ],
            "text/plain": [
              "            id                                               text\n",
              "0    MA_YT6001  athe beharyku deputationil pokam pinarai vijay...\n",
              "1    MA_YT6002  user cheruparamadathil than thinnunnath alla p...\n",
              "2    MA_YT6003  user cheruparamadathilpinaraayi shournuril oru...\n",
              "3    MA_YT6004  user vk pinarai thinnunnathu ninte okke theett...\n",
              "4    MA_YT6005  user george thante ammade poottile pooda kalay...\n",
              "..         ...                                                ...\n",
              "994  MA_YT6995             ente kochu tv dhaivangaleee kaatholnee\n",
              "995  MA_YT6996               aaha jhony sins abinayikkuo ith pole\n",
              "996  MA_YT6997  ath kaaanich reach vangan nokkunna nee enth na...\n",
              "997  MA_YT6998       mattullavarkku vendi kalyanam kazhikkunnavar\n",
              "998  MA_YT6999  e logathine pokk engoda evide corona alla athi...\n",
              "\n",
              "[999 rows x 2 columns]"
            ]
          },
          "metadata": {
            "tags": []
          },
          "execution_count": 78
        }
      ]
    },
    {
      "cell_type": "code",
      "metadata": {
        "id": "yV5TqBjwzk0E"
      },
      "source": [
        "df.to_csv('/content/drive/MyDrive/off language test/subtask 2/malayalam test.csv',index=False)"
      ],
      "execution_count": null,
      "outputs": []
    },
    {
      "cell_type": "code",
      "metadata": {
        "id": "U-sMl57r1TiL"
      },
      "source": [
        "df=pd.read_csv('/content/drive/MyDrive/offensive subtask 1 test data/tam_offesive_withoutlabels_test.tsv.csv',delimiter='\\t')"
      ],
      "execution_count": null,
      "outputs": []
    },
    {
      "cell_type": "code",
      "metadata": {
        "id": "WHKaYH662e6e"
      },
      "source": [
        "df['text']=df['text'].str.lower()"
      ],
      "execution_count": null,
      "outputs": []
    },
    {
      "cell_type": "code",
      "metadata": {
        "id": "qx9vUnwc2vFg"
      },
      "source": [
        "df.to_csv('/content/drive/MyDrive/off language test/subtask 1/tamil train.csv',index=False)"
      ],
      "execution_count": null,
      "outputs": []
    },
    {
      "cell_type": "code",
      "metadata": {
        "id": "mrqK-83p0Cz5"
      },
      "source": [
        ""
      ],
      "execution_count": null,
      "outputs": []
    }
  ]
}