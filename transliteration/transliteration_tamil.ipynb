{
  "nbformat": 4,
  "nbformat_minor": 0,
  "metadata": {
    "colab": {
      "name": "transliteration tamil.ipynb",
      "provenance": [],
      "mount_file_id": "18TqOPl8_L2khZ7bgH_aNQCLNWlbLXbEl",
      "authorship_tag": "ABX9TyN6l7Os48Rwfh3q4FJE1Q/c",
      "include_colab_link": true
    },
    "kernelspec": {
      "name": "python3",
      "display_name": "Python 3"
    },
    "language_info": {
      "name": "python"
    }
  },
  "cells": [
    {
      "cell_type": "markdown",
      "metadata": {
        "id": "view-in-github",
        "colab_type": "text"
      },
      "source": [
        "<a href=\"https://colab.research.google.com/github/PawanKalyanJada/hasoc/blob/main/transliteration/transliteration_tamil.ipynb\" target=\"_parent\"><img src=\"https://colab.research.google.com/assets/colab-badge.svg\" alt=\"Open In Colab\"/></a>"
      ]
    },
    {
      "cell_type": "code",
      "metadata": {
        "id": "uUuhbBtH_2Hn"
      },
      "source": [
        "import pandas as pd\n",
        "import numpy as np"
      ],
      "execution_count": null,
      "outputs": []
    },
    {
      "cell_type": "code",
      "metadata": {
        "colab": {
          "base_uri": "https://localhost:8080/"
        },
        "id": "FLL2p9IFAIYq",
        "outputId": "096650bf-d54e-468a-dda0-79e84783ea96"
      },
      "source": [
        "pip install googletrans==3.1.0a0"
      ],
      "execution_count": null,
      "outputs": [
        {
          "output_type": "stream",
          "text": [
            "Collecting googletrans==3.1.0a0\n",
            "  Downloading https://files.pythonhosted.org/packages/19/3d/4e3a1609bf52f2f7b00436cc751eb977e27040665dde2bd57e7152989672/googletrans-3.1.0a0.tar.gz\n",
            "Collecting httpx==0.13.3\n",
            "\u001b[?25l  Downloading https://files.pythonhosted.org/packages/54/b4/698b284c6aed4d7c2b4fe3ba5df1fcf6093612423797e76fbb24890dd22f/httpx-0.13.3-py3-none-any.whl (55kB)\n",
            "\u001b[K     |████████████████████████████████| 61kB 7.0MB/s \n",
            "\u001b[?25hRequirement already satisfied: idna==2.* in /usr/local/lib/python3.7/dist-packages (from httpx==0.13.3->googletrans==3.1.0a0) (2.10)\n",
            "Requirement already satisfied: chardet==3.* in /usr/local/lib/python3.7/dist-packages (from httpx==0.13.3->googletrans==3.1.0a0) (3.0.4)\n",
            "Requirement already satisfied: certifi in /usr/local/lib/python3.7/dist-packages (from httpx==0.13.3->googletrans==3.1.0a0) (2021.5.30)\n",
            "Collecting rfc3986<2,>=1.3\n",
            "  Downloading https://files.pythonhosted.org/packages/c4/e5/63ca2c4edf4e00657584608bee1001302bbf8c5f569340b78304f2f446cb/rfc3986-1.5.0-py2.py3-none-any.whl\n",
            "Collecting httpcore==0.9.*\n",
            "\u001b[?25l  Downloading https://files.pythonhosted.org/packages/dd/d5/e4ff9318693ac6101a2095e580908b591838c6f33df8d3ee8dd953ba96a8/httpcore-0.9.1-py3-none-any.whl (42kB)\n",
            "\u001b[K     |████████████████████████████████| 51kB 5.3MB/s \n",
            "\u001b[?25hCollecting sniffio\n",
            "  Downloading https://files.pythonhosted.org/packages/52/b0/7b2e028b63d092804b6794595871f936aafa5e9322dcaaad50ebf67445b3/sniffio-1.2.0-py3-none-any.whl\n",
            "Collecting hstspreload\n",
            "\u001b[?25l  Downloading https://files.pythonhosted.org/packages/dd/50/606213e12fb49c5eb667df0936223dcaf461f94e215ea60244b2b1e9b039/hstspreload-2020.12.22-py3-none-any.whl (994kB)\n",
            "\u001b[K     |████████████████████████████████| 1.0MB 30.8MB/s \n",
            "\u001b[?25hCollecting h11<0.10,>=0.8\n",
            "\u001b[?25l  Downloading https://files.pythonhosted.org/packages/5a/fd/3dad730b0f95e78aeeb742f96fa7bbecbdd56a58e405d3da440d5bfb90c6/h11-0.9.0-py2.py3-none-any.whl (53kB)\n",
            "\u001b[K     |████████████████████████████████| 61kB 6.8MB/s \n",
            "\u001b[?25hCollecting h2==3.*\n",
            "\u001b[?25l  Downloading https://files.pythonhosted.org/packages/25/de/da019bcc539eeab02f6d45836f23858ac467f584bfec7a526ef200242afe/h2-3.2.0-py2.py3-none-any.whl (65kB)\n",
            "\u001b[K     |████████████████████████████████| 71kB 7.9MB/s \n",
            "\u001b[?25hCollecting hyperframe<6,>=5.2.0\n",
            "  Downloading https://files.pythonhosted.org/packages/19/0c/bf88182bcb5dce3094e2f3e4fe20db28a9928cb7bd5b08024030e4b140db/hyperframe-5.2.0-py2.py3-none-any.whl\n",
            "Collecting hpack<4,>=3.0\n",
            "  Downloading https://files.pythonhosted.org/packages/8a/cc/e53517f4a1e13f74776ca93271caef378dadec14d71c61c949d759d3db69/hpack-3.0.0-py2.py3-none-any.whl\n",
            "Building wheels for collected packages: googletrans\n",
            "  Building wheel for googletrans (setup.py) ... \u001b[?25l\u001b[?25hdone\n",
            "  Created wheel for googletrans: filename=googletrans-3.1.0a0-cp37-none-any.whl size=16368 sha256=81afd8ea3f440c5463508a217741907204d11f1290701cbbfce574ce23fe90a6\n",
            "  Stored in directory: /root/.cache/pip/wheels/27/7a/a0/aff3babbb775549ce6813cb8fa7ff3c0848c4dc62c20f8fdac\n",
            "Successfully built googletrans\n",
            "Installing collected packages: rfc3986, h11, sniffio, hyperframe, hpack, h2, httpcore, hstspreload, httpx, googletrans\n",
            "Successfully installed googletrans-3.1.0a0 h11-0.9.0 h2-3.2.0 hpack-3.0.0 hstspreload-2020.12.22 httpcore-0.9.1 httpx-0.13.3 hyperframe-5.2.0 rfc3986-1.5.0 sniffio-1.2.0\n"
          ],
          "name": "stdout"
        }
      ]
    },
    {
      "cell_type": "code",
      "metadata": {
        "colab": {
          "base_uri": "https://localhost:8080/"
        },
        "id": "wrVdJJA6M1a_",
        "outputId": "02e1d50a-260f-4723-e1f2-7cbc1583cf32"
      },
      "source": [
        "pip install indic-transliteration"
      ],
      "execution_count": null,
      "outputs": [
        {
          "output_type": "stream",
          "text": [
            "Collecting indic-transliteration\n",
            "\u001b[?25l  Downloading https://files.pythonhosted.org/packages/df/5e/371469d191696f97e3795b37c166635dbd42bc667e621635c60e5905b9d1/indic_transliteration-2.1.3-py3-none-any.whl (63kB)\n",
            "\u001b[K     |████████████████████████████████| 71kB 7.7MB/s \n",
            "\u001b[?25hCollecting regex==2020.10.11\n",
            "\u001b[?25l  Downloading https://files.pythonhosted.org/packages/c6/d4/0cfc341b58b40ad52b648affc7c1eb6aa75140230dc14e92a39a79706eed/regex-2020.10.11-cp37-cp37m-manylinux2010_x86_64.whl (662kB)\n",
            "\u001b[K     |████████████████████████████████| 665kB 29.9MB/s \n",
            "\u001b[?25hCollecting backports.functools-lru-cache==1.6.4\n",
            "  Downloading https://files.pythonhosted.org/packages/e5/c1/1a48a4bb9b515480d6c666977eeca9243be9fa9e6fb5a34be0ad9627f737/backports.functools_lru_cache-1.6.4-py2.py3-none-any.whl\n",
            "Collecting selenium==3.141.0\n",
            "\u001b[?25l  Downloading https://files.pythonhosted.org/packages/80/d6/4294f0b4bce4de0abf13e17190289f9d0613b0a44e5dd6a7f5ca98459853/selenium-3.141.0-py2.py3-none-any.whl (904kB)\n",
            "\u001b[K     |████████████████████████████████| 911kB 32.6MB/s \n",
            "\u001b[?25hCollecting typer==0.3.2\n",
            "  Downloading https://files.pythonhosted.org/packages/90/34/d138832f6945432c638f32137e6c79a3b682f06a63c488dcfaca6b166c64/typer-0.3.2-py3-none-any.whl\n",
            "Requirement already satisfied: urllib3 in /usr/local/lib/python3.7/dist-packages (from selenium==3.141.0->indic-transliteration) (1.24.3)\n",
            "Requirement already satisfied: click<7.2.0,>=7.1.1 in /usr/local/lib/python3.7/dist-packages (from typer==0.3.2->indic-transliteration) (7.1.2)\n",
            "Installing collected packages: regex, backports.functools-lru-cache, selenium, typer, indic-transliteration\n",
            "  Found existing installation: regex 2019.12.20\n",
            "    Uninstalling regex-2019.12.20:\n",
            "      Successfully uninstalled regex-2019.12.20\n",
            "Successfully installed backports.functools-lru-cache-1.6.4 indic-transliteration-2.1.3 regex-2020.10.11 selenium-3.141.0 typer-0.3.2\n"
          ],
          "name": "stdout"
        }
      ]
    },
    {
      "cell_type": "code",
      "metadata": {
        "id": "Kk4omBrHAem0"
      },
      "source": [
        "df=pd.read_csv('/content/drive/MyDrive/off language test/subtask 2/tamil test.csv')"
      ],
      "execution_count": null,
      "outputs": []
    },
    {
      "cell_type": "code",
      "metadata": {
        "colab": {
          "base_uri": "https://localhost:8080/",
          "height": 417
        },
        "id": "ywj1FcnQ1vRk",
        "outputId": "114abd9d-b3da-4936-a73b-7530b70e6c92"
      },
      "source": [
        "df"
      ],
      "execution_count": null,
      "outputs": [
        {
          "output_type": "execute_result",
          "data": {
            "text/html": [
              "<div>\n",
              "<style scoped>\n",
              "    .dataframe tbody tr th:only-of-type {\n",
              "        vertical-align: middle;\n",
              "    }\n",
              "\n",
              "    .dataframe tbody tr th {\n",
              "        vertical-align: top;\n",
              "    }\n",
              "\n",
              "    .dataframe thead th {\n",
              "        text-align: right;\n",
              "    }\n",
              "</style>\n",
              "<table border=\"1\" class=\"dataframe\">\n",
              "  <thead>\n",
              "    <tr style=\"text-align: right;\">\n",
              "      <th></th>\n",
              "      <th>id</th>\n",
              "      <th>text</th>\n",
              "    </tr>\n",
              "  </thead>\n",
              "  <tbody>\n",
              "    <tr>\n",
              "      <th>0</th>\n",
              "      <td>Tam_1</td>\n",
              "      <td>indha movie ku award tharlana avanga mansanay ...</td>\n",
              "    </tr>\n",
              "    <tr>\n",
              "      <th>1</th>\n",
              "      <td>Tam_2</td>\n",
              "      <td>kritheeck kookaburra en unaku enachu? cbsc ah??</td>\n",
              "    </tr>\n",
              "    <tr>\n",
              "      <th>2</th>\n",
              "      <td>Tam_3</td>\n",
              "      <td>actually oru particular bus incident thalaiya ...</td>\n",
              "    </tr>\n",
              "    <tr>\n",
              "      <th>3</th>\n",
              "      <td>Tam_4</td>\n",
              "      <td>small suggestions: mic ah shirt la pottukunga bro</td>\n",
              "    </tr>\n",
              "    <tr>\n",
              "      <th>4</th>\n",
              "      <td>Tam_5</td>\n",
              "      <td>karnan padathulaa oru pombaa varumlaa athuu en...</td>\n",
              "    </tr>\n",
              "    <tr>\n",
              "      <th>...</th>\n",
              "      <td>...</td>\n",
              "      <td>...</td>\n",
              "    </tr>\n",
              "    <tr>\n",
              "      <th>996</th>\n",
              "      <td>Tam_997</td>\n",
              "      <td>chai spoiler vaya mooduya full kathayum sillit...</td>\n",
              "    </tr>\n",
              "    <tr>\n",
              "      <th>997</th>\n",
              "      <td>Tam_998</td>\n",
              "      <td>unakku thinga soru irukko illayo aduthavangala...</td>\n",
              "    </tr>\n",
              "    <tr>\n",
              "      <th>998</th>\n",
              "      <td>Tam_999</td>\n",
              "      <td>dai seripu oli advingi mala vandavan thana mau...</td>\n",
              "    </tr>\n",
              "    <tr>\n",
              "      <th>999</th>\n",
              "      <td>Tam_1000</td>\n",
              "      <td>gomala bule shirt ta nee padam eduthu paaruda ...</td>\n",
              "    </tr>\n",
              "    <tr>\n",
              "      <th>1000</th>\n",
              "      <td>Tam_1001</td>\n",
              "      <td>mr. maran neenga mindvoice nu nenachu sound ah...</td>\n",
              "    </tr>\n",
              "  </tbody>\n",
              "</table>\n",
              "<p>1001 rows × 2 columns</p>\n",
              "</div>"
            ],
            "text/plain": [
              "            id                                               text\n",
              "0        Tam_1  indha movie ku award tharlana avanga mansanay ...\n",
              "1        Tam_2    kritheeck kookaburra en unaku enachu? cbsc ah??\n",
              "2        Tam_3  actually oru particular bus incident thalaiya ...\n",
              "3        Tam_4  small suggestions: mic ah shirt la pottukunga bro\n",
              "4        Tam_5  karnan padathulaa oru pombaa varumlaa athuu en...\n",
              "...        ...                                                ...\n",
              "996    Tam_997  chai spoiler vaya mooduya full kathayum sillit...\n",
              "997    Tam_998  unakku thinga soru irukko illayo aduthavangala...\n",
              "998    Tam_999  dai seripu oli advingi mala vandavan thana mau...\n",
              "999   Tam_1000  gomala bule shirt ta nee padam eduthu paaruda ...\n",
              "1000  Tam_1001  mr. maran neenga mindvoice nu nenachu sound ah...\n",
              "\n",
              "[1001 rows x 2 columns]"
            ]
          },
          "metadata": {
            "tags": []
          },
          "execution_count": 5
        }
      ]
    },
    {
      "cell_type": "code",
      "metadata": {
        "id": "hjSc84c6AnV7"
      },
      "source": [
        "l=df['text'].to_list()"
      ],
      "execution_count": null,
      "outputs": []
    },
    {
      "cell_type": "code",
      "metadata": {
        "id": "pvNcNVQ-A2xo",
        "colab": {
          "base_uri": "https://localhost:8080/"
        },
        "outputId": "086f1e19-7960-44be-ebc7-9e7f40aeaff2"
      },
      "source": [
        "from indic_transliteration import sanscript\n",
        "from indic_transliteration.sanscript import transliterate\n",
        "\n",
        "text = l[2]\n",
        "\n",
        "print(text)\n",
        "print(transliterate(text, sanscript.ITRANS, sanscript.TAMIL))"
      ],
      "execution_count": null,
      "outputs": [
        {
          "output_type": "stream",
          "text": [
            "actually oru particular bus incident thalaiya vettina sambavam atha pathi sollala\n",
            "அcதுஅல்ல்ய் ஓரு பர்திcஉலர் புஸ் இந்cஇதேந்த் தலைய வேத்திந ஸம்பவம் அத பதி ஸோல்லல\n"
          ],
          "name": "stdout"
        }
      ]
    },
    {
      "cell_type": "code",
      "metadata": {
        "id": "4abN37D6QtAj"
      },
      "source": [
        "res=[]\n",
        "for i in range(len(l)):\n",
        "  k=transliterate(l[i], sanscript.ITRANS, sanscript.TAMIL)\n",
        "  res.append(k)"
      ],
      "execution_count": null,
      "outputs": []
    },
    {
      "cell_type": "code",
      "metadata": {
        "id": "hTbZKcT0RMxE"
      },
      "source": [
        "df['tamil_translation']=res"
      ],
      "execution_count": null,
      "outputs": []
    },
    {
      "cell_type": "code",
      "metadata": {
        "colab": {
          "base_uri": "https://localhost:8080/",
          "height": 417
        },
        "id": "nA7Chh0TRU70",
        "outputId": "ad67ef30-077a-4e8e-fff8-b97a04dda692"
      },
      "source": [
        "df"
      ],
      "execution_count": null,
      "outputs": [
        {
          "output_type": "execute_result",
          "data": {
            "text/html": [
              "<div>\n",
              "<style scoped>\n",
              "    .dataframe tbody tr th:only-of-type {\n",
              "        vertical-align: middle;\n",
              "    }\n",
              "\n",
              "    .dataframe tbody tr th {\n",
              "        vertical-align: top;\n",
              "    }\n",
              "\n",
              "    .dataframe thead th {\n",
              "        text-align: right;\n",
              "    }\n",
              "</style>\n",
              "<table border=\"1\" class=\"dataframe\">\n",
              "  <thead>\n",
              "    <tr style=\"text-align: right;\">\n",
              "      <th></th>\n",
              "      <th>id</th>\n",
              "      <th>text</th>\n",
              "      <th>tamil_translation</th>\n",
              "    </tr>\n",
              "  </thead>\n",
              "  <tbody>\n",
              "    <tr>\n",
              "      <th>0</th>\n",
              "      <td>Tam_1</td>\n",
              "      <td>indha movie ku award tharlana avanga mansanay ...</td>\n",
              "      <td>இந்த மோவிஏ கு அவர்த் தர்லந அவந்க மந்ஸநய் இல்ல ...</td>\n",
              "    </tr>\n",
              "    <tr>\n",
              "      <th>1</th>\n",
              "      <td>Tam_2</td>\n",
              "      <td>kritheeck kookaburra en unaku enachu? cbsc ah??</td>\n",
              "      <td>க்ரிதேஏcக் கோஓகபுர்ர ஏந் உநகு ஏநசு? cப்ஸ்c அஹ்??</td>\n",
              "    </tr>\n",
              "    <tr>\n",
              "      <th>2</th>\n",
              "      <td>Tam_3</td>\n",
              "      <td>actually oru particular bus incident thalaiya ...</td>\n",
              "      <td>அcதுஅல்ல்ய் ஓரு பர்திcஉலர் புஸ் இந்cஇதேந்த் தல...</td>\n",
              "    </tr>\n",
              "    <tr>\n",
              "      <th>3</th>\n",
              "      <td>Tam_4</td>\n",
              "      <td>small suggestions: mic ah shirt la pottukunga bro</td>\n",
              "      <td>ஸ்மல்ல் ஸுக்கேஸ்திஓந்ஸ்: மிc அஹ் ஶிர்த் ல போத்...</td>\n",
              "    </tr>\n",
              "    <tr>\n",
              "      <th>4</th>\n",
              "      <td>Tam_5</td>\n",
              "      <td>karnan padathulaa oru pombaa varumlaa athuu en...</td>\n",
              "      <td>கர்நந் பததுலா ஓரு போம்பா வரும்லா அதூ ஏந்ந போம்ம</td>\n",
              "    </tr>\n",
              "    <tr>\n",
              "      <th>...</th>\n",
              "      <td>...</td>\n",
              "      <td>...</td>\n",
              "      <td>...</td>\n",
              "    </tr>\n",
              "    <tr>\n",
              "      <th>996</th>\n",
              "      <td>Tam_997</td>\n",
              "      <td>chai spoiler vaya mooduya full kathayum sillit...</td>\n",
              "      <td>சை ஸ்போஇலேர் வய மோஓதுய fஉல்ல் கதயும் ஸில்லிதரு...</td>\n",
              "    </tr>\n",
              "    <tr>\n",
              "      <th>997</th>\n",
              "      <td>Tam_998</td>\n",
              "      <td>unakku thinga soru irukko illayo aduthavangala...</td>\n",
              "      <td>உநக்கு திந்க ஸோரு இருக்கோ இல்லயோ அதுதவந்கல கோர...</td>\n",
              "    </tr>\n",
              "    <tr>\n",
              "      <th>998</th>\n",
              "      <td>Tam_999</td>\n",
              "      <td>dai seripu oli advingi mala vandavan thana mau...</td>\n",
              "      <td>தை ஸேரிபு ஓலி அத்விந்கி மல வந்தவந் தந மௌபிதி அ...</td>\n",
              "    </tr>\n",
              "    <tr>\n",
              "      <th>999</th>\n",
              "      <td>Tam_1000</td>\n",
              "      <td>gomala bule shirt ta nee padam eduthu paaruda ...</td>\n",
              "      <td>கோமல புலே ஶிர்த் த நேஏ பதம் ஏதுது பாருத ஓஹோஹ் ...</td>\n",
              "    </tr>\n",
              "    <tr>\n",
              "      <th>1000</th>\n",
              "      <td>Tam_1001</td>\n",
              "      <td>mr. maran neenga mindvoice nu nenachu sound ah...</td>\n",
              "      <td>ம்ர்। மரந் நேஏந்க மிந்த்வோஇcஏ நு நேநசு ஸோஉந்த்...</td>\n",
              "    </tr>\n",
              "  </tbody>\n",
              "</table>\n",
              "<p>1001 rows × 3 columns</p>\n",
              "</div>"
            ],
            "text/plain": [
              "            id  ...                                  tamil_translation\n",
              "0        Tam_1  ...  இந்த மோவிஏ கு அவர்த் தர்லந அவந்க மந்ஸநய் இல்ல ...\n",
              "1        Tam_2  ...   க்ரிதேஏcக் கோஓகபுர்ர ஏந் உநகு ஏநசு? cப்ஸ்c அஹ்??\n",
              "2        Tam_3  ...  அcதுஅல்ல்ய் ஓரு பர்திcஉலர் புஸ் இந்cஇதேந்த் தல...\n",
              "3        Tam_4  ...  ஸ்மல்ல் ஸுக்கேஸ்திஓந்ஸ்: மிc அஹ் ஶிர்த் ல போத்...\n",
              "4        Tam_5  ...    கர்நந் பததுலா ஓரு போம்பா வரும்லா அதூ ஏந்ந போம்ம\n",
              "...        ...  ...                                                ...\n",
              "996    Tam_997  ...  சை ஸ்போஇலேர் வய மோஓதுய fஉல்ல் கதயும் ஸில்லிதரு...\n",
              "997    Tam_998  ...  உநக்கு திந்க ஸோரு இருக்கோ இல்லயோ அதுதவந்கல கோர...\n",
              "998    Tam_999  ...  தை ஸேரிபு ஓலி அத்விந்கி மல வந்தவந் தந மௌபிதி அ...\n",
              "999   Tam_1000  ...  கோமல புலே ஶிர்த் த நேஏ பதம் ஏதுது பாருத ஓஹோஹ் ...\n",
              "1000  Tam_1001  ...  ம்ர்। மரந் நேஏந்க மிந்த்வோஇcஏ நு நேநசு ஸோஉந்த்...\n",
              "\n",
              "[1001 rows x 3 columns]"
            ]
          },
          "metadata": {
            "tags": []
          },
          "execution_count": 11
        }
      ]
    },
    {
      "cell_type": "code",
      "metadata": {
        "id": "gg8-FSarRlDf"
      },
      "source": [
        "from googletrans import Translator\n",
        "translator=Translator()"
      ],
      "execution_count": null,
      "outputs": []
    },
    {
      "cell_type": "code",
      "metadata": {
        "id": "RRaT4aAsSaeM"
      },
      "source": [
        "r=translator.translate(res,src='ta',dest='en')"
      ],
      "execution_count": null,
      "outputs": []
    },
    {
      "cell_type": "code",
      "metadata": {
        "id": "lis6FfG1SnCY"
      },
      "source": [
        "r1=[i.text for i in r]"
      ],
      "execution_count": null,
      "outputs": []
    },
    {
      "cell_type": "code",
      "metadata": {
        "id": "XLZ8_PzbYY5B"
      },
      "source": [
        "df['eng_translation 1']=r1"
      ],
      "execution_count": null,
      "outputs": []
    },
    {
      "cell_type": "code",
      "metadata": {
        "id": "vQIW2NJW6Hfa"
      },
      "source": [
        "res=df['text'].to_list()\n",
        "r=translator.translate(res,src='ml',dest='en')"
      ],
      "execution_count": null,
      "outputs": []
    },
    {
      "cell_type": "code",
      "metadata": {
        "id": "dTjgnipv6Whw"
      },
      "source": [
        "r1=[i.text for i in r]"
      ],
      "execution_count": null,
      "outputs": []
    },
    {
      "cell_type": "code",
      "metadata": {
        "id": "gY19ha_36WUl"
      },
      "source": [
        "df['eng_translation']=r1"
      ],
      "execution_count": null,
      "outputs": []
    },
    {
      "cell_type": "code",
      "metadata": {
        "id": "vVWIPkBCZHSL"
      },
      "source": [
        "df.to_csv('/content/drive/MyDrive/off language test/subtask 2/tamil test 1.csv',index=False)"
      ],
      "execution_count": null,
      "outputs": []
    },
    {
      "cell_type": "code",
      "metadata": {
        "id": "OAp0Q71EA7V7"
      },
      "source": [
        ""
      ],
      "execution_count": null,
      "outputs": []
    }
  ]
}