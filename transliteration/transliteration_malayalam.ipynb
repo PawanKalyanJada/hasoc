{
  "nbformat": 4,
  "nbformat_minor": 0,
  "metadata": {
    "colab": {
      "name": "transliteration malayalam.ipynb",
      "provenance": [],
      "collapsed_sections": [],
      "mount_file_id": "1b8u26JuRvd1AKVSz29OIgyy4gDieyj3O",
      "authorship_tag": "ABX9TyNRqzfwv711KCC6AiJhsPdI",
      "include_colab_link": true
    },
    "kernelspec": {
      "name": "python3",
      "display_name": "Python 3"
    },
    "language_info": {
      "name": "python"
    }
  },
  "cells": [
    {
      "cell_type": "markdown",
      "metadata": {
        "id": "view-in-github",
        "colab_type": "text"
      },
      "source": [
        "<a href=\"https://colab.research.google.com/github/PawanKalyanJada/hasoc/blob/main/transliteration/transliteration_malayalam.ipynb\" target=\"_parent\"><img src=\"https://colab.research.google.com/assets/colab-badge.svg\" alt=\"Open In Colab\"/></a>"
      ]
    },
    {
      "cell_type": "code",
      "metadata": {
        "id": "uUuhbBtH_2Hn"
      },
      "source": [
        "import pandas as pd\n",
        "import numpy as np"
      ],
      "execution_count": null,
      "outputs": []
    },
    {
      "cell_type": "code",
      "metadata": {
        "colab": {
          "base_uri": "https://localhost:8080/"
        },
        "id": "FLL2p9IFAIYq",
        "outputId": "809c9280-f95e-49fd-c617-ea572c2e0dac"
      },
      "source": [
        "pip install googletrans==3.1.0a0"
      ],
      "execution_count": null,
      "outputs": [
        {
          "output_type": "stream",
          "text": [
            "Collecting googletrans==3.1.0a0\n",
            "  Downloading https://files.pythonhosted.org/packages/19/3d/4e3a1609bf52f2f7b00436cc751eb977e27040665dde2bd57e7152989672/googletrans-3.1.0a0.tar.gz\n",
            "Collecting httpx==0.13.3\n",
            "\u001b[?25l  Downloading https://files.pythonhosted.org/packages/54/b4/698b284c6aed4d7c2b4fe3ba5df1fcf6093612423797e76fbb24890dd22f/httpx-0.13.3-py3-none-any.whl (55kB)\n",
            "\u001b[K     |████████████████████████████████| 61kB 3.4MB/s \n",
            "\u001b[?25hRequirement already satisfied: certifi in /usr/local/lib/python3.7/dist-packages (from httpx==0.13.3->googletrans==3.1.0a0) (2021.5.30)\n",
            "Collecting rfc3986<2,>=1.3\n",
            "  Downloading https://files.pythonhosted.org/packages/c4/e5/63ca2c4edf4e00657584608bee1001302bbf8c5f569340b78304f2f446cb/rfc3986-1.5.0-py2.py3-none-any.whl\n",
            "Collecting hstspreload\n",
            "\u001b[?25l  Downloading https://files.pythonhosted.org/packages/dd/50/606213e12fb49c5eb667df0936223dcaf461f94e215ea60244b2b1e9b039/hstspreload-2020.12.22-py3-none-any.whl (994kB)\n",
            "\u001b[K     |████████████████████████████████| 1.0MB 10.3MB/s \n",
            "\u001b[?25hRequirement already satisfied: chardet==3.* in /usr/local/lib/python3.7/dist-packages (from httpx==0.13.3->googletrans==3.1.0a0) (3.0.4)\n",
            "Requirement already satisfied: idna==2.* in /usr/local/lib/python3.7/dist-packages (from httpx==0.13.3->googletrans==3.1.0a0) (2.10)\n",
            "Collecting httpcore==0.9.*\n",
            "\u001b[?25l  Downloading https://files.pythonhosted.org/packages/dd/d5/e4ff9318693ac6101a2095e580908b591838c6f33df8d3ee8dd953ba96a8/httpcore-0.9.1-py3-none-any.whl (42kB)\n",
            "\u001b[K     |████████████████████████████████| 51kB 4.6MB/s \n",
            "\u001b[?25hCollecting sniffio\n",
            "  Downloading https://files.pythonhosted.org/packages/52/b0/7b2e028b63d092804b6794595871f936aafa5e9322dcaaad50ebf67445b3/sniffio-1.2.0-py3-none-any.whl\n",
            "Collecting h2==3.*\n",
            "\u001b[?25l  Downloading https://files.pythonhosted.org/packages/25/de/da019bcc539eeab02f6d45836f23858ac467f584bfec7a526ef200242afe/h2-3.2.0-py2.py3-none-any.whl (65kB)\n",
            "\u001b[K     |████████████████████████████████| 71kB 6.8MB/s \n",
            "\u001b[?25hCollecting h11<0.10,>=0.8\n",
            "\u001b[?25l  Downloading https://files.pythonhosted.org/packages/5a/fd/3dad730b0f95e78aeeb742f96fa7bbecbdd56a58e405d3da440d5bfb90c6/h11-0.9.0-py2.py3-none-any.whl (53kB)\n",
            "\u001b[K     |████████████████████████████████| 61kB 6.6MB/s \n",
            "\u001b[?25hCollecting hyperframe<6,>=5.2.0\n",
            "  Downloading https://files.pythonhosted.org/packages/19/0c/bf88182bcb5dce3094e2f3e4fe20db28a9928cb7bd5b08024030e4b140db/hyperframe-5.2.0-py2.py3-none-any.whl\n",
            "Collecting hpack<4,>=3.0\n",
            "  Downloading https://files.pythonhosted.org/packages/8a/cc/e53517f4a1e13f74776ca93271caef378dadec14d71c61c949d759d3db69/hpack-3.0.0-py2.py3-none-any.whl\n",
            "Building wheels for collected packages: googletrans\n",
            "  Building wheel for googletrans (setup.py) ... \u001b[?25l\u001b[?25hdone\n",
            "  Created wheel for googletrans: filename=googletrans-3.1.0a0-cp37-none-any.whl size=16368 sha256=1b2aee4d359ebb14f2590894a4051e8bfaf732cff75f603c9931e13887f5922c\n",
            "  Stored in directory: /root/.cache/pip/wheels/27/7a/a0/aff3babbb775549ce6813cb8fa7ff3c0848c4dc62c20f8fdac\n",
            "Successfully built googletrans\n",
            "Installing collected packages: rfc3986, hstspreload, sniffio, hyperframe, hpack, h2, h11, httpcore, httpx, googletrans\n",
            "Successfully installed googletrans-3.1.0a0 h11-0.9.0 h2-3.2.0 hpack-3.0.0 hstspreload-2020.12.22 httpcore-0.9.1 httpx-0.13.3 hyperframe-5.2.0 rfc3986-1.5.0 sniffio-1.2.0\n"
          ],
          "name": "stdout"
        }
      ]
    },
    {
      "cell_type": "code",
      "metadata": {
        "colab": {
          "base_uri": "https://localhost:8080/"
        },
        "id": "wrVdJJA6M1a_",
        "outputId": "5fea1725-b1ee-4280-81ac-016be0508972"
      },
      "source": [
        "pip install indic-transliteration"
      ],
      "execution_count": null,
      "outputs": [
        {
          "output_type": "stream",
          "text": [
            "Collecting indic-transliteration\n",
            "\u001b[?25l  Downloading https://files.pythonhosted.org/packages/df/5e/371469d191696f97e3795b37c166635dbd42bc667e621635c60e5905b9d1/indic_transliteration-2.1.3-py3-none-any.whl (63kB)\n",
            "\u001b[K     |████████████████████████████████| 71kB 3.6MB/s \n",
            "\u001b[?25hCollecting backports.functools-lru-cache==1.6.4\n",
            "  Downloading https://files.pythonhosted.org/packages/e5/c1/1a48a4bb9b515480d6c666977eeca9243be9fa9e6fb5a34be0ad9627f737/backports.functools_lru_cache-1.6.4-py2.py3-none-any.whl\n",
            "Collecting selenium==3.141.0\n",
            "\u001b[?25l  Downloading https://files.pythonhosted.org/packages/80/d6/4294f0b4bce4de0abf13e17190289f9d0613b0a44e5dd6a7f5ca98459853/selenium-3.141.0-py2.py3-none-any.whl (904kB)\n",
            "\u001b[K     |████████████████████████████████| 911kB 8.2MB/s \n",
            "\u001b[?25hCollecting regex==2020.10.11\n",
            "\u001b[?25l  Downloading https://files.pythonhosted.org/packages/c6/d4/0cfc341b58b40ad52b648affc7c1eb6aa75140230dc14e92a39a79706eed/regex-2020.10.11-cp37-cp37m-manylinux2010_x86_64.whl (662kB)\n",
            "\u001b[K     |████████████████████████████████| 665kB 17.5MB/s \n",
            "\u001b[?25hCollecting typer==0.3.2\n",
            "  Downloading https://files.pythonhosted.org/packages/90/34/d138832f6945432c638f32137e6c79a3b682f06a63c488dcfaca6b166c64/typer-0.3.2-py3-none-any.whl\n",
            "Requirement already satisfied: urllib3 in /usr/local/lib/python3.7/dist-packages (from selenium==3.141.0->indic-transliteration) (1.24.3)\n",
            "Requirement already satisfied: click<7.2.0,>=7.1.1 in /usr/local/lib/python3.7/dist-packages (from typer==0.3.2->indic-transliteration) (7.1.2)\n",
            "Installing collected packages: backports.functools-lru-cache, selenium, regex, typer, indic-transliteration\n",
            "  Found existing installation: regex 2019.12.20\n",
            "    Uninstalling regex-2019.12.20:\n",
            "      Successfully uninstalled regex-2019.12.20\n",
            "Successfully installed backports.functools-lru-cache-1.6.4 indic-transliteration-2.1.3 regex-2020.10.11 selenium-3.141.0 typer-0.3.2\n"
          ],
          "name": "stdout"
        }
      ]
    },
    {
      "cell_type": "code",
      "metadata": {
        "id": "Kk4omBrHAem0"
      },
      "source": [
        "df=pd.read_csv('/content/drive/MyDrive/off language test/subtask 2/malayalam test.csv')"
      ],
      "execution_count": null,
      "outputs": []
    },
    {
      "cell_type": "code",
      "metadata": {
        "colab": {
          "base_uri": "https://localhost:8080/",
          "height": 417
        },
        "id": "ywj1FcnQ1vRk",
        "outputId": "50037f88-f3df-41ba-a3b9-53d4fdc0b3bb"
      },
      "source": [
        "df"
      ],
      "execution_count": null,
      "outputs": [
        {
          "output_type": "execute_result",
          "data": {
            "text/html": [
              "<div>\n",
              "<style scoped>\n",
              "    .dataframe tbody tr th:only-of-type {\n",
              "        vertical-align: middle;\n",
              "    }\n",
              "\n",
              "    .dataframe tbody tr th {\n",
              "        vertical-align: top;\n",
              "    }\n",
              "\n",
              "    .dataframe thead th {\n",
              "        text-align: right;\n",
              "    }\n",
              "</style>\n",
              "<table border=\"1\" class=\"dataframe\">\n",
              "  <thead>\n",
              "    <tr style=\"text-align: right;\">\n",
              "      <th></th>\n",
              "      <th>id</th>\n",
              "      <th>text</th>\n",
              "    </tr>\n",
              "  </thead>\n",
              "  <tbody>\n",
              "    <tr>\n",
              "      <th>0</th>\n",
              "      <td>MA_YT6001</td>\n",
              "      <td>athe beharyku deputationil pokam pinarai vijay...</td>\n",
              "    </tr>\n",
              "    <tr>\n",
              "      <th>1</th>\n",
              "      <td>MA_YT6002</td>\n",
              "      <td>user cheruparamadathil than thinnunnath alla p...</td>\n",
              "    </tr>\n",
              "    <tr>\n",
              "      <th>2</th>\n",
              "      <td>MA_YT6003</td>\n",
              "      <td>user cheruparamadathilpinaraayi shournuril oru...</td>\n",
              "    </tr>\n",
              "    <tr>\n",
              "      <th>3</th>\n",
              "      <td>MA_YT6004</td>\n",
              "      <td>user vk pinarai thinnunnathu ninte okke theett...</td>\n",
              "    </tr>\n",
              "    <tr>\n",
              "      <th>4</th>\n",
              "      <td>MA_YT6005</td>\n",
              "      <td>user george thante ammade poottile pooda kalay...</td>\n",
              "    </tr>\n",
              "    <tr>\n",
              "      <th>...</th>\n",
              "      <td>...</td>\n",
              "      <td>...</td>\n",
              "    </tr>\n",
              "    <tr>\n",
              "      <th>994</th>\n",
              "      <td>MA_YT6995</td>\n",
              "      <td>ente kochu tv dhaivangaleee kaatholnee</td>\n",
              "    </tr>\n",
              "    <tr>\n",
              "      <th>995</th>\n",
              "      <td>MA_YT6996</td>\n",
              "      <td>aaha jhony sins abinayikkuo ith pole</td>\n",
              "    </tr>\n",
              "    <tr>\n",
              "      <th>996</th>\n",
              "      <td>MA_YT6997</td>\n",
              "      <td>ath kaaanich reach vangan nokkunna nee enth na...</td>\n",
              "    </tr>\n",
              "    <tr>\n",
              "      <th>997</th>\n",
              "      <td>MA_YT6998</td>\n",
              "      <td>mattullavarkku vendi kalyanam kazhikkunnavar</td>\n",
              "    </tr>\n",
              "    <tr>\n",
              "      <th>998</th>\n",
              "      <td>MA_YT6999</td>\n",
              "      <td>e logathine pokk engoda evide corona alla athi...</td>\n",
              "    </tr>\n",
              "  </tbody>\n",
              "</table>\n",
              "<p>999 rows × 2 columns</p>\n",
              "</div>"
            ],
            "text/plain": [
              "            id                                               text\n",
              "0    MA_YT6001  athe beharyku deputationil pokam pinarai vijay...\n",
              "1    MA_YT6002  user cheruparamadathil than thinnunnath alla p...\n",
              "2    MA_YT6003  user cheruparamadathilpinaraayi shournuril oru...\n",
              "3    MA_YT6004  user vk pinarai thinnunnathu ninte okke theett...\n",
              "4    MA_YT6005  user george thante ammade poottile pooda kalay...\n",
              "..         ...                                                ...\n",
              "994  MA_YT6995             ente kochu tv dhaivangaleee kaatholnee\n",
              "995  MA_YT6996               aaha jhony sins abinayikkuo ith pole\n",
              "996  MA_YT6997  ath kaaanich reach vangan nokkunna nee enth na...\n",
              "997  MA_YT6998       mattullavarkku vendi kalyanam kazhikkunnavar\n",
              "998  MA_YT6999  e logathine pokk engoda evide corona alla athi...\n",
              "\n",
              "[999 rows x 2 columns]"
            ]
          },
          "metadata": {
            "tags": []
          },
          "execution_count": 5
        }
      ]
    },
    {
      "cell_type": "code",
      "metadata": {
        "id": "hjSc84c6AnV7"
      },
      "source": [
        "l=df['text'].to_list()"
      ],
      "execution_count": null,
      "outputs": []
    },
    {
      "cell_type": "code",
      "metadata": {
        "id": "pvNcNVQ-A2xo",
        "colab": {
          "base_uri": "https://localhost:8080/"
        },
        "outputId": "45b125df-fff5-4f87-cd5e-990a42f69427"
      },
      "source": [
        "from indic_transliteration import sanscript\n",
        "from indic_transliteration.sanscript import transliterate\n",
        "\n",
        "text = l[2]\n",
        "\n",
        "print(text)\n",
        "print(transliterate(text, sanscript.ITRANS, sanscript.MALAYALAM))"
      ],
      "execution_count": null,
      "outputs": [
        {
          "output_type": "stream",
          "text": [
            "user cheruparamadathilpinaraayi shournuril oru barber shop ittittund athil barberaayi jecob varum\n",
            "ഉസേര് ചേരുപരമദഥില്പിനരായി ശോഉര്നുരില് ഓരു ബര്ബേര് ശോപ് ഇത്തിത്തുന്ദ് അഥില് ബര്ബേരായി ജേcഓബ് വരുമ്\n"
          ],
          "name": "stdout"
        }
      ]
    },
    {
      "cell_type": "code",
      "metadata": {
        "id": "4abN37D6QtAj"
      },
      "source": [
        "res=[]\n",
        "for i in range(len(l)):\n",
        "  k=transliterate(l[i], sanscript.ITRANS, sanscript.MALAYALAM)\n",
        "  res.append(k)"
      ],
      "execution_count": null,
      "outputs": []
    },
    {
      "cell_type": "code",
      "metadata": {
        "id": "hTbZKcT0RMxE"
      },
      "source": [
        "df['malayalam_translation']=res"
      ],
      "execution_count": null,
      "outputs": []
    },
    {
      "cell_type": "code",
      "metadata": {
        "colab": {
          "base_uri": "https://localhost:8080/",
          "height": 417
        },
        "id": "nA7Chh0TRU70",
        "outputId": "5a2ecbac-b2ff-4eb0-8732-a00ffcca0779"
      },
      "source": [
        "df"
      ],
      "execution_count": null,
      "outputs": [
        {
          "output_type": "execute_result",
          "data": {
            "text/html": [
              "<div>\n",
              "<style scoped>\n",
              "    .dataframe tbody tr th:only-of-type {\n",
              "        vertical-align: middle;\n",
              "    }\n",
              "\n",
              "    .dataframe tbody tr th {\n",
              "        vertical-align: top;\n",
              "    }\n",
              "\n",
              "    .dataframe thead th {\n",
              "        text-align: right;\n",
              "    }\n",
              "</style>\n",
              "<table border=\"1\" class=\"dataframe\">\n",
              "  <thead>\n",
              "    <tr style=\"text-align: right;\">\n",
              "      <th></th>\n",
              "      <th>id</th>\n",
              "      <th>text</th>\n",
              "      <th>malayalam_translation</th>\n",
              "    </tr>\n",
              "  </thead>\n",
              "  <tbody>\n",
              "    <tr>\n",
              "      <th>0</th>\n",
              "      <td>MA_YT6001</td>\n",
              "      <td>athe beharyku deputationil pokam pinarai vijay...</td>\n",
              "      <td>അഥേ ബേഹര്യ്കു ദേപുതതിഓനില് പോകമ് പിനരൈ വിജയനു ...</td>\n",
              "    </tr>\n",
              "    <tr>\n",
              "      <th>1</th>\n",
              "      <td>MA_YT6002</td>\n",
              "      <td>user cheruparamadathil than thinnunnath alla p...</td>\n",
              "      <td>ഉസേര് ചേരുപരമദഥില് ഥന് ഥിന്നുന്നഥ് അല്ല പിനരയി...</td>\n",
              "    </tr>\n",
              "    <tr>\n",
              "      <th>2</th>\n",
              "      <td>MA_YT6003</td>\n",
              "      <td>user cheruparamadathilpinaraayi shournuril oru...</td>\n",
              "      <td>ഉസേര് ചേരുപരമദഥില്പിനരായി ശോഉര്നുരില് ഓരു ബര്ബ...</td>\n",
              "    </tr>\n",
              "    <tr>\n",
              "      <th>3</th>\n",
              "      <td>MA_YT6004</td>\n",
              "      <td>user vk pinarai thinnunnathu ninte okke theett...</td>\n",
              "      <td>ഉസേര് വ്ക് പിനരൈ ഥിന്നുന്നഥു നിന്തേ ഓക്കേ ഥേഏത...</td>\n",
              "    </tr>\n",
              "    <tr>\n",
              "      <th>4</th>\n",
              "      <td>MA_YT6005</td>\n",
              "      <td>user george thante ammade poottile pooda kalay...</td>\n",
              "      <td>ഉസേര് ഗേഓര്ഗേ ഥന്തേ അമ്മദേ പോഓത്തിലേ പോഓദ കലയന...</td>\n",
              "    </tr>\n",
              "    <tr>\n",
              "      <th>...</th>\n",
              "      <td>...</td>\n",
              "      <td>...</td>\n",
              "      <td>...</td>\n",
              "    </tr>\n",
              "    <tr>\n",
              "      <th>994</th>\n",
              "      <td>MA_YT6995</td>\n",
              "      <td>ente kochu tv dhaivangaleee kaatholnee</td>\n",
              "      <td>ഏന്തേ കോചു ത്വ് ധൈവന്ഗലേഏഏ കാഥോല്നേഏ</td>\n",
              "    </tr>\n",
              "    <tr>\n",
              "      <th>995</th>\n",
              "      <td>MA_YT6996</td>\n",
              "      <td>aaha jhony sins abinayikkuo ith pole</td>\n",
              "      <td>ആഹ ഝോന്യ് സിന്സ് അബിനയിക്കുഓ ഇഥ് പോലേ</td>\n",
              "    </tr>\n",
              "    <tr>\n",
              "      <th>996</th>\n",
              "      <td>MA_YT6997</td>\n",
              "      <td>ath kaaanich reach vangan nokkunna nee enth na...</td>\n",
              "      <td>അഥ് കാഅനിച് രേഅച് വന്ഗന് നോക്കുന്ന നേഏ ഏന്ഥ് ന...</td>\n",
              "    </tr>\n",
              "    <tr>\n",
              "      <th>997</th>\n",
              "      <td>MA_YT6998</td>\n",
              "      <td>mattullavarkku vendi kalyanam kazhikkunnavar</td>\n",
              "      <td>മത്തുല്ലവര്ക്കു വേന്ദി കല്യനമ് കഴിക്കുന്നവര്</td>\n",
              "    </tr>\n",
              "    <tr>\n",
              "      <th>998</th>\n",
              "      <td>MA_YT6999</td>\n",
              "      <td>e logathine pokk engoda evide corona alla athi...</td>\n",
              "      <td>ഏ ലോഗഥിനേ പോക്ക് ഏന്ഗോദ ഏവിദേ cഓരോന അല്ല അഥില്...</td>\n",
              "    </tr>\n",
              "  </tbody>\n",
              "</table>\n",
              "<p>999 rows × 3 columns</p>\n",
              "</div>"
            ],
            "text/plain": [
              "            id  ...                              malayalam_translation\n",
              "0    MA_YT6001  ...  അഥേ ബേഹര്യ്കു ദേപുതതിഓനില് പോകമ് പിനരൈ വിജയനു ...\n",
              "1    MA_YT6002  ...  ഉസേര് ചേരുപരമദഥില് ഥന് ഥിന്നുന്നഥ് അല്ല പിനരയി...\n",
              "2    MA_YT6003  ...  ഉസേര് ചേരുപരമദഥില്പിനരായി ശോഉര്നുരില് ഓരു ബര്ബ...\n",
              "3    MA_YT6004  ...  ഉസേര് വ്ക് പിനരൈ ഥിന്നുന്നഥു നിന്തേ ഓക്കേ ഥേഏത...\n",
              "4    MA_YT6005  ...  ഉസേര് ഗേഓര്ഗേ ഥന്തേ അമ്മദേ പോഓത്തിലേ പോഓദ കലയന...\n",
              "..         ...  ...                                                ...\n",
              "994  MA_YT6995  ...               ഏന്തേ കോചു ത്വ് ധൈവന്ഗലേഏഏ കാഥോല്നേഏ\n",
              "995  MA_YT6996  ...              ആഹ ഝോന്യ് സിന്സ് അബിനയിക്കുഓ ഇഥ് പോലേ\n",
              "996  MA_YT6997  ...  അഥ് കാഅനിച് രേഅച് വന്ഗന് നോക്കുന്ന നേഏ ഏന്ഥ് ന...\n",
              "997  MA_YT6998  ...       മത്തുല്ലവര്ക്കു വേന്ദി കല്യനമ് കഴിക്കുന്നവര്\n",
              "998  MA_YT6999  ...  ഏ ലോഗഥിനേ പോക്ക് ഏന്ഗോദ ഏവിദേ cഓരോന അല്ല അഥില്...\n",
              "\n",
              "[999 rows x 3 columns]"
            ]
          },
          "metadata": {
            "tags": []
          },
          "execution_count": 10
        }
      ]
    },
    {
      "cell_type": "code",
      "metadata": {
        "id": "gg8-FSarRlDf"
      },
      "source": [
        "from googletrans import Translator\n",
        "translator=Translator()"
      ],
      "execution_count": null,
      "outputs": []
    },
    {
      "cell_type": "code",
      "metadata": {
        "id": "RRaT4aAsSaeM"
      },
      "source": [
        "r=translator.translate(res,src='ml',dest='en')"
      ],
      "execution_count": null,
      "outputs": []
    },
    {
      "cell_type": "code",
      "metadata": {
        "id": "lis6FfG1SnCY"
      },
      "source": [
        "r1=[i.text for i in r]"
      ],
      "execution_count": null,
      "outputs": []
    },
    {
      "cell_type": "code",
      "metadata": {
        "id": "XLZ8_PzbYY5B"
      },
      "source": [
        "df['eng_translation 1']=r1"
      ],
      "execution_count": null,
      "outputs": []
    },
    {
      "cell_type": "code",
      "metadata": {
        "id": "vQIW2NJW6Hfa"
      },
      "source": [
        "res=df['text'].to_list()\n",
        "r=translator.translate(res,src='ml',dest='en')"
      ],
      "execution_count": null,
      "outputs": []
    },
    {
      "cell_type": "code",
      "metadata": {
        "id": "dTjgnipv6Whw"
      },
      "source": [
        "r1=[i.text for i in r]"
      ],
      "execution_count": null,
      "outputs": []
    },
    {
      "cell_type": "code",
      "metadata": {
        "id": "gY19ha_36WUl"
      },
      "source": [
        "df['eng_translation']=r1"
      ],
      "execution_count": null,
      "outputs": []
    },
    {
      "cell_type": "code",
      "metadata": {
        "id": "vVWIPkBCZHSL"
      },
      "source": [
        "df.to_csv('/content/drive/MyDrive/off language test/subtask 2/malayalam test 1.csv',index=False)"
      ],
      "execution_count": null,
      "outputs": []
    },
    {
      "cell_type": "code",
      "metadata": {
        "id": "OAp0Q71EA7V7"
      },
      "source": [
        ""
      ],
      "execution_count": null,
      "outputs": []
    }
  ]
}